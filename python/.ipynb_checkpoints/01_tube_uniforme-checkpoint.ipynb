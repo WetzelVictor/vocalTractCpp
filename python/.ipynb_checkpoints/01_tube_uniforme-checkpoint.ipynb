{
 "cells": [
  {
   "cell_type": "markdown",
   "metadata": {},
   "source": [
    "# Simulations modèle ICSV"
   ]
  },
  {
   "cell_type": "code",
   "execution_count": 1,
   "metadata": {
    "scrolled": true
   },
   "outputs": [
    {
     "data": {
      "text/html": [
       "<style>.container { width:100% !important; }</style>"
      ],
      "text/plain": [
       "<IPython.core.display.HTML object>"
      ]
     },
     "metadata": {},
     "output_type": "display_data"
    }
   ],
   "source": [
    "import vocal_tract_constrained_cpp as vc\n",
    "from body_vocal_tract import *\n",
    "from terminal_impedance import *\n",
    "\n",
    "import pyphs as phs\n",
    "import sympy as sy\n",
    "import numpy as np\n",
    "import os\n",
    "#from utils import signal_generator\n",
    "#from utils import functions\n",
    "#from utils.glottal_signal_generator import glottal_signal\n",
    "#from utils.signal_generator import simple_mouth_opening\n",
    "#from utils.signal_generator import mouth_opening_and_glottal\n",
    "#from utils.timer import Timer as Timer\n",
    "import datetime\n",
    "import pickle\n",
    "import sympy as sy\n",
    "import matplotlib.pyplot as plt\n",
    "from scipy.io.wavfile import write as wavWrite\n",
    "import h5py\n",
    "sy.init_printing()\n",
    "\n",
    "from IPython.core.display import display, HTML\n",
    "display(HTML(\"<style>.container { width:100% !important; }</style>\"))\n",
    "\n",
    "PPTY_PHY_PARAMS = {\"positive\": True, \"real\" : True }                            \n",
    "PPTY_STATE_VAR  = {\"real\" : True }\n",
    "\n",
    "import pdb"
   ]
  },
  {
   "cell_type": "code",
   "execution_count": 2,
   "metadata": {},
   "outputs": [],
   "source": [
    "import time\n",
    "import datetime\n",
    "class Timer(object):\n",
    "    \"\"\" \n",
    "    Allows one to time a particular set of actions.\n",
    "    \n",
    "    Example:\n",
    "    ```(Python)\n",
    "        with Timer('foo_stuff'):\n",
    "           # do some foo\n",
    "           # do some stuff\n",
    "    ```\n",
    "    \n",
    "    Credit: Eli Bendersky\n",
    "    https://stackoverflow.com/questions/5849800/what-is-the-python-equivalent-of-matlabs-tic-and-toc-functions\n",
    "    \"\"\"\n",
    "    def __init__(self, name=None):\n",
    "        self.name = name\n",
    "\n",
    "    def __enter__(self):\n",
    "        self.tstart = time.time()\n",
    "        currentDT = datetime.datetime.now()\n",
    "        print('Start: ' + str(currentDT))\n",
    "\n",
    "    def __exit__(self, type, value, traceback):\n",
    "        if self.name:\n",
    "            print('[%s]' % self.name,)\n",
    "        print('Elapsed: {:4.2f} sec'.format(time.time() - self.tstart))"
   ]
  },
  {
   "cell_type": "code",
   "execution_count": 3,
   "metadata": {},
   "outputs": [],
   "source": [
    "phs.__version__\n",
    "IMPULSE_RESPONSE = True"
   ]
  },
  {
   "cell_type": "markdown",
   "metadata": {},
   "source": [
    "## Instanciation de l'objet `core`\n",
    "On considère que la largeur $L$ est égale à la hauteur au repos $h_0$ pour un tronçon donné.\n",
    "\n",
    "Pour la voyelle A, on prend $A_1 = \\frac{1}{10} A_2$ avec $A_i$ l'aire de la section du tronçon $i=1,2$."
   ]
  },
  {
   "cell_type": "code",
   "execution_count": 4,
   "metadata": {
    "scrolled": true
   },
   "outputs": [],
   "source": [
    "from importlib import reload  \n",
    "reload(vc)\n",
    "\n",
    "N_tube       = 6\n",
    "label        = 'vocal_tract'\n",
    "forme_model  = 'quad_comp_shift'\n",
    "total_length = 0.175\n",
    "\n",
    "h = 0.02 \n",
    "L = h\n",
    "\n",
    "\n",
    "h_ray = 0.08\n",
    "Sray = (h_ray)**2\n",
    "\n",
    "VT_subs = {\n",
    "        'P_0'       : 101.325e03,\n",
    "        'rho_0'     : 1.225,\n",
    "        'gamma'     : 1.4,\n",
    "        'Z_ray'     : 128/(9*Sray),\n",
    "        }\n",
    "\n",
    "# Calcul des V0\n",
    "for i in range(N_tube): # V = 2 * ell * L * h\n",
    "    ind = str(i+1)\n",
    "    VT_subs[\"ell_\" + ind] = total_length/(2*N_tube)\n",
    "    VT_subs[\"L_\" + ind]   = L\n",
    "    Sw                    = 2*VT_subs['ell_' + ind]*L\n",
    "    VT_subs[\"V_0_\" + ind] = Sw*h\n",
    "\n",
    "# Assemblage des dictionnaires\n",
    "VT_subs_tot = dict(VT_subs)\n",
    "\n",
    "core = vc.VocalTractLumpedParameter(\n",
    "                                    N     = N_tube,\n",
    "                                    label = label,\n",
    "                                    **VT_subs_tot,\n",
    "                                    )\n",
    "\n",
    "assert not core.freesymbols(), 'Il manque des valeurs/échelles'"
   ]
  },
  {
   "cell_type": "code",
   "execution_count": 5,
   "metadata": {},
   "outputs": [
    {
     "data": {
      "image/png": "[encoded data removed]",
      "text/latex": [
       "$\\displaystyle \\left\\{ (mu_{1 add \\mu 2)} : \\mu_{1} + \\mu_{2}, \\  (mu_{1minus \\mu 2)} : \\mu_{1} - \\mu_{2}, \\  (mu_{2 add \\mu 3)} : \\mu_{2} + \\mu_{3}, \\  (mu_{2minus \\mu 3)} : \\mu_{2} - \\mu_{3}, \\  (mu_{3 add \\mu 4)} : \\mu_{3} + \\mu_{4}, \\  (mu_{3minus \\mu 4)} : \\mu_{3} - \\mu_{4}, \\  (mu_{4 add \\mu 5)} : \\mu_{4} + \\mu_{5}, \\  (mu_{4minus \\mu 5)} : \\mu_{4} - \\mu_{5}, \\  (mu_{5 add \\mu 6)} : \\mu_{5} + \\mu_{6}, \\  (mu_{5minus \\mu 6)} : \\mu_{5} - \\mu_{6}, \\  \\Delta_{12} : RHS_{1}, \\  \\Delta_{23} : RHS_{2}, \\  \\Delta_{34} : RHS_{3}, \\  \\Delta_{45} : RHS_{4}, \\  \\Delta_{56} : RHS_{5}, \\  RHS_{1} : - \\frac{(mu_{1minus \\mu 2)} \\nu_{12}}{2} + \\frac{\\mu_{1} \\nu_{L1}}{2} - \\frac{\\mu_{2} \\nu_{23}}{2}, \\  RHS_{2} : - \\frac{(mu_{2minus \\mu 3)} \\nu_{23}}{2} + \\frac{\\mu_{2} \\nu_{12}}{2} - \\frac{\\mu_{3} \\nu_{34}}{2}, \\  RHS_{3} : - \\frac{(mu_{3minus \\mu 4)} \\nu_{34}}{2} + \\frac{\\mu_{3} \\nu_{23}}{2} - \\frac{\\mu_{4} \\nu_{45}}{2}, \\  RHS_{4} : - \\frac{(mu_{4minus \\mu 5)} \\nu_{45}}{2} + \\frac{\\mu_{4} \\nu_{34}}{2} - \\frac{\\mu_{5} \\nu_{56}}{2}, \\  RHS_{5} : - \\frac{(mu_{5minus \\mu 6)} \\nu_{56}}{2} + \\frac{\\mu_{5} \\nu_{45}}{2} - \\frac{\\mu_{6} \\nu_{R6}}{2}, \\  \\mu_{1} : \\frac{\\left(V_{0 1} + V_{1}\\right) \\left(\\rho_{0} + \\rho_{1}\\right)}{\\ell_{1}^{2}}, \\  \\mu_{2} : \\frac{\\left(V_{0 2} + V_{2}\\right) \\left(\\rho_{0} + \\rho_{2}\\right)}{\\ell_{2}^{2}}, \\  \\mu_{3} : \\frac{\\left(V_{0 3} + V_{3}\\right) \\left(\\rho_{0} + \\rho_{3}\\right)}{\\ell_{3}^{2}}, \\  \\mu_{4} : \\frac{\\left(V_{0 4} + V_{4}\\right) \\left(\\rho_{0} + \\rho_{4}\\right)}{\\ell_{4}^{2}}, \\  \\mu_{5} : \\frac{\\left(V_{0 5} + V_{5}\\right) \\left(\\rho_{0} + \\rho_{5}\\right)}{\\ell_{5}^{2}}, \\  \\mu_{6} : \\frac{\\left(V_{0 6} + V_{6}\\right) \\left(\\rho_{0} + \\rho_{6}\\right)}{\\ell_{6}^{2}}\\right\\}$"
      ],
      "text/plain": [
       "OrderedDict(⎡⎛    (V₀ ₁ + V₁)⋅(ρ₀ + ρ₁)⎞  ⎛    (V₀ ₂ + V₂)⋅(ρ₀ + ρ₂)⎞  ⎛    (V₀ ₃ + V₃)⋅(ρ\n",
       "⎢⎜μ₁, ─────────────────────⎟, ⎜μ₂, ─────────────────────⎟, ⎜μ₃, ──────────────\n",
       "⎢⎜                2        ⎟  ⎜                2        ⎟  ⎜                2 \n",
       "⎣⎝            ell₁         ⎠  ⎝            ell₂         ⎠  ⎝            ell₃  \n",
       "\n",
       "₀ + ρ₃)⎞  ⎛    (V₀ ₄ + V₄)⋅(ρ₀ + ρ₄)⎞  ⎛    (V₀ ₅ + V₅)⋅(ρ₀ + ρ₅)⎞  ⎛    (V₀ ₆\n",
       "───────⎟, ⎜μ₄, ─────────────────────⎟, ⎜μ₅, ─────────────────────⎟, ⎜μ₆, ─────\n",
       "       ⎟  ⎜                2        ⎟  ⎜                2        ⎟  ⎜         \n",
       "       ⎠  ⎝            ell₄         ⎠  ⎝            ell₅         ⎠  ⎝         \n",
       "\n",
       " + V₆)⋅(ρ₀ + ρ₆)⎞                                                             \n",
       "────────────────⎟, ((mu_1_add_μ_2), μ₁ + μ₂), ((mu_2_add_μ_3), μ₂ + μ₃), ((mu_\n",
       "       2        ⎟                                                             \n",
       "   ell₆         ⎠                                                             \n",
       "\n",
       "                                                                              \n",
       "3_add_μ_4), μ₃ + μ₄), ((mu_4_add_μ_5), μ₄ + μ₅), ((mu_5_add_μ_6), μ₅ + μ₆), ((\n",
       "                                                                              \n",
       "                                                                              \n",
       "\n",
       "                                                                              \n",
       "mu₁ₘᵢₙᵤₛ ₘᵤ ₂₎, μ₁ - μ₂), ((mu₂ₘᵢₙᵤₛ ₘᵤ ₃₎, μ₂ - μ₃), ((mu₃ₘᵢₙᵤₛ ₘᵤ ₄₎, μ₃ - μ\n",
       "                                                                              \n",
       "                                                                              \n",
       "\n",
       "                                                            ⎛        (mu₁ₘᵢₙᵤₛ\n",
       "₄), ((mu₄ₘᵢₙᵤₛ ₘᵤ ₅₎, μ₄ - μ₅), ((mu₅ₘᵢₙᵤₛ ₘᵤ ₆₎, μ₅ - μ₆), ⎜RHS₁, - ─────────\n",
       "                                                            ⎝                 \n",
       "                                                                              \n",
       "\n",
       " ₘᵤ ₂₎⋅ν₁₂   μ₁⋅ν_L1   μ₂⋅ν₂₃⎞  ⎛        (mu₂ₘᵢₙᵤₛ ₘᵤ ₃₎⋅ν₂₃   μ₂⋅ν₁₂   μ₃⋅ν₃₄\n",
       "────────── + ─────── - ──────⎟, ⎜RHS₂, - ─────────────────── + ────── - ──────\n",
       "2               2        2   ⎠  ⎝                 2              2        2   \n",
       "                                                                              \n",
       "\n",
       "⎞  ⎛        (mu₃ₘᵢₙᵤₛ ₘᵤ ₄₎⋅ν₃₄   μ₃⋅ν₂₃   μ₄⋅ν₄₅⎞  ⎛        (mu₄ₘᵢₙᵤₛ ₘᵤ ₅₎⋅ν\n",
       "⎟, ⎜RHS₃, - ─────────────────── + ────── - ──────⎟, ⎜RHS₄, - ─────────────────\n",
       "⎠  ⎝                 2              2        2   ⎠  ⎝                 2       \n",
       "                                                                              \n",
       "\n",
       "₄₅   μ₄⋅ν₃₄   μ₅⋅ν₅₆⎞  ⎛        (mu₅ₘᵢₙᵤₛ ₘᵤ ₆₎⋅ν₅₆   μ₅⋅ν₄₅   μ₆⋅ν_R6⎞       \n",
       "── + ────── - ──────⎟, ⎜RHS₅, - ─────────────────── + ────── - ───────⎟, (Δ₁₂,\n",
       "       2        2   ⎠  ⎝                 2              2         2   ⎠       \n",
       "                                                                              \n",
       "\n",
       "                                                          ⎤\n",
       " RHS₁), (Δ₂₃, RHS₂), (Δ₃₄, RHS₃), (Δ₄₅, RHS₄), (Δ₅₆, RHS₅)⎥\n",
       "                                                          ⎥\n",
       "                                                          ⎦)"
      ]
     },
     "execution_count": 5,
     "metadata": {},
     "output_type": "execute_result"
    }
   ],
   "source": [
    "core.observers"
   ]
  },
  {
   "cell_type": "code",
   "execution_count": 6,
   "metadata": {},
   "outputs": [],
   "source": [
    "# ajout de ressort dans la paroi\n",
    "body = []\n",
    "    \n",
    "for i in range(N_tube):\n",
    "    body.append(DissipativeSingleSpringBody(n=i+1))\n",
    "    core = core +  body[i]\n",
    "    core.add_connector((2, core.y.index(body[i].y[0])), alpha=-1)\n",
    "    \n",
    "\n",
    "# ajout d'une impédance de rayonnement\n",
    "composant_impedance = RadiationImpedance()\n",
    "core = core + composant_impedance\n",
    "core.add_connector((1, core.y.index(composant_impedance.y[0])), alpha=1)\n",
    "\n",
    "\n",
    "core.connect()"
   ]
  },
  {
   "cell_type": "code",
   "execution_count": 7,
   "metadata": {},
   "outputs": [],
   "source": [
    "## Update subs\n",
    "body_subs = {}\n",
    "for i in range(1,N_tube+1):    \n",
    "    body_subs['k_' + str(i)] = 845\n",
    "    body_subs['r_' + str(i)] = 0.8\n",
    "\n",
    "core.subs.update(                                                       \n",
    "    {core.symbols(k,**PPTY_PHY_PARAMS): v for k, v in body_subs.items()}   \n",
    ")"
   ]
  },
  {
   "cell_type": "markdown",
   "metadata": {},
   "source": [
    "## Configuration de la simulation\n",
    "Initialisation des états/observateurs puis paramètres de la simulation"
   ]
  },
  {
   "cell_type": "code",
   "execution_count": 8,
   "metadata": {},
   "outputs": [],
   "source": [
    "inits = {'x' : [0.0 for i in range(len(core.x))]}"
   ]
  },
  {
   "cell_type": "markdown",
   "metadata": {},
   "source": [
    "Calcule des initialisations des observateurs"
   ]
  },
  {
   "cell_type": "code",
   "execution_count": 11,
   "metadata": {},
   "outputs": [
    {
     "name": "stdout",
     "output_type": "stream",
     "text": [
      "mu_1\n",
      "mu_2\n",
      "mu_3\n",
      "mu_4\n",
      "mu_5\n",
      "mu_6\n",
      "(mu_1_add_mu_2)\n",
      "(mu_2_add_mu_3)\n",
      "(mu_3_add_mu_4)\n",
      "(mu_4_add_mu_5)\n",
      "(mu_5_add_mu_6)\n",
      "(mu_1minus_mu_2)\n",
      "(mu_2minus_mu_3)\n",
      "(mu_3minus_mu_4)\n",
      "(mu_4minus_mu_5)\n",
      "(mu_5minus_mu_6)\n",
      "RHS_1\n",
      "RHS_2\n",
      "RHS_3\n",
      "RHS_4\n",
      "RHS_5\n",
      "Delta_12\n",
      "Delta_23\n",
      "Delta_34\n",
      "Delta_45\n",
      "Delta_56\n"
     ]
    },
    {
     "ename": "NameError",
     "evalue": "name 'mu_1minus_mu_2' is not defined",
     "output_type": "error",
     "traceback": [
      "\u001b[0;31m---------------------------------------------------------------------------\u001b[0m",
      "\u001b[0;31mNameError\u001b[0m                                 Traceback (most recent call last)",
      "\u001b[0;32m<ipython-input-11-de7d22625f20>\u001b[0m in \u001b[0;36m<module>\u001b[0;34m\u001b[0m\n\u001b[1;32m     18\u001b[0m \u001b[0minit_obs\u001b[0m \u001b[0;34m=\u001b[0m \u001b[0;34m[\u001b[0m\u001b[0;34m]\u001b[0m\u001b[0;34m\u001b[0m\u001b[0;34m\u001b[0m\u001b[0m\n\u001b[1;32m     19\u001b[0m \u001b[0;32mfor\u001b[0m \u001b[0mfunc\u001b[0m \u001b[0;32min\u001b[0m \u001b[0mf_obs\u001b[0m\u001b[0;34m:\u001b[0m\u001b[0;34m\u001b[0m\u001b[0;34m\u001b[0m\u001b[0m\n\u001b[0;32m---> 20\u001b[0;31m     \u001b[0minit_obs\u001b[0m\u001b[0;34m.\u001b[0m\u001b[0mappend\u001b[0m\u001b[0;34m(\u001b[0m\u001b[0mfunc\u001b[0m\u001b[0;34m(\u001b[0m\u001b[0;34m*\u001b[0m\u001b[0minits\u001b[0m\u001b[0;34m[\u001b[0m\u001b[0;34m'x'\u001b[0m\u001b[0;34m]\u001b[0m\u001b[0;34m)\u001b[0m\u001b[0;34m)\u001b[0m\u001b[0;34m\u001b[0m\u001b[0;34m\u001b[0m\u001b[0m\n\u001b[0m\u001b[1;32m     21\u001b[0m \u001b[0;34m\u001b[0m\u001b[0m\n\u001b[1;32m     22\u001b[0m \u001b[0;31m# Formattage numpy\u001b[0m\u001b[0;34m\u001b[0m\u001b[0;34m\u001b[0m\u001b[0;34m\u001b[0m\u001b[0m\n",
      "\u001b[0;32m<lambdifygenerated-74>\u001b[0m in \u001b[0;36m_lambdifygenerated\u001b[0;34m(nu_L1, nu_12, nu_23, nu_34, nu_45, nu_56, nu_R6, Pi_y1, Pi_y2, Pi_y3, Pi_y4, Pi_y5, Pi_y6, V_1, V_2, V_3, V_4, V_5, V_6, rho_1, rho_2, rho_3, rho_4, rho_5, rho_6, x_k1, x_k2, x_k3, x_k4, x_k5, x_k6)\u001b[0m\n\u001b[1;32m      1\u001b[0m \u001b[0;32mdef\u001b[0m \u001b[0m_lambdifygenerated\u001b[0m\u001b[0;34m(\u001b[0m\u001b[0mnu_L1\u001b[0m\u001b[0;34m,\u001b[0m \u001b[0mnu_12\u001b[0m\u001b[0;34m,\u001b[0m \u001b[0mnu_23\u001b[0m\u001b[0;34m,\u001b[0m \u001b[0mnu_34\u001b[0m\u001b[0;34m,\u001b[0m \u001b[0mnu_45\u001b[0m\u001b[0;34m,\u001b[0m \u001b[0mnu_56\u001b[0m\u001b[0;34m,\u001b[0m \u001b[0mnu_R6\u001b[0m\u001b[0;34m,\u001b[0m \u001b[0mPi_y1\u001b[0m\u001b[0;34m,\u001b[0m \u001b[0mPi_y2\u001b[0m\u001b[0;34m,\u001b[0m \u001b[0mPi_y3\u001b[0m\u001b[0;34m,\u001b[0m \u001b[0mPi_y4\u001b[0m\u001b[0;34m,\u001b[0m \u001b[0mPi_y5\u001b[0m\u001b[0;34m,\u001b[0m \u001b[0mPi_y6\u001b[0m\u001b[0;34m,\u001b[0m \u001b[0mV_1\u001b[0m\u001b[0;34m,\u001b[0m \u001b[0mV_2\u001b[0m\u001b[0;34m,\u001b[0m \u001b[0mV_3\u001b[0m\u001b[0;34m,\u001b[0m \u001b[0mV_4\u001b[0m\u001b[0;34m,\u001b[0m \u001b[0mV_5\u001b[0m\u001b[0;34m,\u001b[0m \u001b[0mV_6\u001b[0m\u001b[0;34m,\u001b[0m \u001b[0mrho_1\u001b[0m\u001b[0;34m,\u001b[0m \u001b[0mrho_2\u001b[0m\u001b[0;34m,\u001b[0m \u001b[0mrho_3\u001b[0m\u001b[0;34m,\u001b[0m \u001b[0mrho_4\u001b[0m\u001b[0;34m,\u001b[0m \u001b[0mrho_5\u001b[0m\u001b[0;34m,\u001b[0m \u001b[0mrho_6\u001b[0m\u001b[0;34m,\u001b[0m \u001b[0mx_k1\u001b[0m\u001b[0;34m,\u001b[0m \u001b[0mx_k2\u001b[0m\u001b[0;34m,\u001b[0m \u001b[0mx_k3\u001b[0m\u001b[0;34m,\u001b[0m \u001b[0mx_k4\u001b[0m\u001b[0;34m,\u001b[0m \u001b[0mx_k5\u001b[0m\u001b[0;34m,\u001b[0m \u001b[0mx_k6\u001b[0m\u001b[0;34m)\u001b[0m\u001b[0;34m:\u001b[0m\u001b[0;34m\u001b[0m\u001b[0;34m\u001b[0m\u001b[0m\n\u001b[0;32m----> 2\u001b[0;31m     \u001b[0;32mreturn\u001b[0m \u001b[0;34m(\u001b[0m\u001b[0;34m-\u001b[0m\u001b[0;36m1\u001b[0m\u001b[0;34m/\u001b[0m\u001b[0;36m2\u001b[0m\u001b[0;34m*\u001b[0m\u001b[0;34m(\u001b[0m\u001b[0mmu_1minus_mu_2\u001b[0m\u001b[0;34m)\u001b[0m\u001b[0;34m*\u001b[0m\u001b[0mnu_12\u001b[0m \u001b[0;34m-\u001b[0m \u001b[0;36m2351.02040816327\u001b[0m\u001b[0;34m*\u001b[0m\u001b[0mnu_23\u001b[0m\u001b[0;34m*\u001b[0m\u001b[0;34m(\u001b[0m\u001b[0mV_2\u001b[0m \u001b[0;34m+\u001b[0m \u001b[0;36m1.16666666666667e-5\u001b[0m\u001b[0;34m)\u001b[0m\u001b[0;34m*\u001b[0m\u001b[0;34m(\u001b[0m\u001b[0mrho_2\u001b[0m \u001b[0;34m+\u001b[0m \u001b[0;36m1.225\u001b[0m\u001b[0;34m)\u001b[0m \u001b[0;34m+\u001b[0m \u001b[0;36m2351.02040816327\u001b[0m\u001b[0;34m*\u001b[0m\u001b[0mnu_L1\u001b[0m\u001b[0;34m*\u001b[0m\u001b[0;34m(\u001b[0m\u001b[0mV_1\u001b[0m \u001b[0;34m+\u001b[0m \u001b[0;36m1.16666666666667e-5\u001b[0m\u001b[0;34m)\u001b[0m\u001b[0;34m*\u001b[0m\u001b[0;34m(\u001b[0m\u001b[0mrho_1\u001b[0m \u001b[0;34m+\u001b[0m \u001b[0;36m1.225\u001b[0m\u001b[0;34m)\u001b[0m\u001b[0;34m)\u001b[0m\u001b[0;34m\u001b[0m\u001b[0;34m\u001b[0m\u001b[0m\n\u001b[0m",
      "\u001b[0;31mNameError\u001b[0m: name 'mu_1minus_mu_2' is not defined"
     ]
    }
   ],
   "source": [
    "expr_obs = []\n",
    "lab_obs = []\n",
    "subs = {}\n",
    "\n",
    "# On récupère les observateurs et leurs expressions\n",
    "for key, val in core.observers.items():\n",
    "    subs[key] = val.subs(core.subs)\n",
    "    lab_obs.append(key)\n",
    "    print(key)\n",
    "    expr_obs.append(val.subs(subs).subs(core.subs))\n",
    "    \n",
    "# On créé les fonctions numpy\n",
    "f_obs = []\n",
    "for expr in expr_obs:\n",
    "    f_obs.append(sy.lambdify(core.x, expr))\n",
    "    \n",
    "# On évalue les fonctions\n",
    "init_obs = []\n",
    "for func in f_obs:\n",
    "    init_obs.append(func(*inits['x']))\n",
    "    \n",
    "# Formattage numpy\n",
    "init_obs = np.array(init_obs).T"
   ]
  },
  {
   "cell_type": "code",
   "execution_count": null,
   "metadata": {},
   "outputs": [],
   "source": [
    "inits['o'] = init_obs"
   ]
  },
  {
   "cell_type": "code",
   "execution_count": null,
   "metadata": {
    "scrolled": true
   },
   "outputs": [],
   "source": [
    "config = {'fs'   : 1e6, # sample rate (Hz)\n",
    "          'path' : os.path.join(os.getcwd(), '03_data'), # folder for output results/build\n",
    "          'lang' : 'c++',\n",
    "          'cmake': r'cmake',\n",
    "          'grad' : 'discret',\n",
    "          'maxit': 20,\n",
    "          'pbar' : False,\n",
    "          'split': False,\n",
    "          'timer': True,\n",
    "          'epsdg': np.power(np.finfo(np.float64).eps, 0.5),\n",
    "          'eps'  : np.finfo(np.float64).eps,\n",
    "         }\n",
    "print(np.finfo(np.float64).eps)\n",
    "\n",
    "\n",
    "with Timer('Building method'):\n",
    "    simu = core.to_simulation(\n",
    "                              config, \n",
    "                              erase = True,\n",
    "                              inits = inits\n",
    "                             )"
   ]
  },
  {
   "cell_type": "code",
   "execution_count": null,
   "metadata": {},
   "outputs": [],
   "source": [
    "tmax  = 0.25\n",
    "Nit   = int(tmax*config['fs'])\n",
    "t_vec = np.linspace(0, tmax, Nit)"
   ]
  },
  {
   "cell_type": "code",
   "execution_count": null,
   "metadata": {},
   "outputs": [],
   "source": [
    "assert False,"
   ]
  },
  {
   "cell_type": "markdown",
   "metadata": {},
   "source": [
    "on initialise les observateurs à leur valeur au repos"
   ]
  },
  {
   "cell_type": "code",
   "execution_count": null,
   "metadata": {},
   "outputs": [],
   "source": []
  },
  {
   "cell_type": "markdown",
   "metadata": {},
   "source": [
    "## Signaux d'entrée"
   ]
  },
  {
   "cell_type": "code",
   "execution_count": null,
   "metadata": {},
   "outputs": [],
   "source": [
    "t_imp = 0.001\n",
    "ind_start = int(t_imp*config['fs'])\n",
    "if IMPULSE_RESPONSE:\n",
    "    u = np.zeros((Nit, len(core.u)))\n",
    "    u[ind_start,0] = 1"
   ]
  },
  {
   "cell_type": "markdown",
   "metadata": {},
   "source": [
    "## Simulation"
   ]
  },
  {
   "cell_type": "code",
   "execution_count": null,
   "metadata": {
    "scrolled": true
   },
   "outputs": [],
   "source": [
    "print('Build de la simulation à {0}'.format(datetime.datetime.now()))\n",
    "simu.init(\n",
    "        u     = u,\n",
    "        nt    = Nit,\n",
    "        #inits = inits\n",
    "        )\n",
    "print('Simulation démarée à {0}'.format(datetime.datetime.now()))\n",
    "with Timer('Simulation'):\n",
    "    simu.process()\n",
    "print('Simulation finie à {0}'.format(datetime.datetime.now()))"
   ]
  },
  {
   "cell_type": "markdown",
   "metadata": {},
   "source": [
    "## Données\n",
    "On fait l'évaluation des observateurs nous même pour gagner du temps"
   ]
  },
  {
   "cell_type": "code",
   "execution_count": null,
   "metadata": {},
   "outputs": [],
   "source": [
    "''' Commenté car on a déjà créé les fonctions pour initialiser les observateurs\n",
    "expr_obs = []\n",
    "lab_obs = []\n",
    "subs = {}\n",
    "\n",
    "# On récupère les observateurs et leurs expressions\n",
    "for key, val in core.observers.items():\n",
    "    subs[key] = val.subs(core.subs)\n",
    "    lab_obs.append(key)\n",
    "    expr_obs.append(val.subs(subs).subs(core.subs))\n",
    "    \n",
    "# On créé les fonctions numpy\n",
    "f_obs = []\n",
    "for expr in expr_obs:\n",
    "    f_obs.append(sy.lambdify(core.x, expr))\n",
    "'''\n",
    "\n",
    "# On évalue les fonctions\n",
    "data_obs = []\n",
    "for func in f_obs:\n",
    "    data_obs.append(func(*simu.data.x().T))\n",
    "    \n",
    "# Formattage numpy\n",
    "data_obs = np.array(data_obs).T"
   ]
  },
  {
   "cell_type": "code",
   "execution_count": null,
   "metadata": {},
   "outputs": [],
   "source": [
    "# Date, heure etc...\n",
    "timedate_now = datetime.datetime.now()\n",
    "month  = timedate_now.month\n",
    "day    = timedate_now.day\n",
    "hour   = timedate_now.hour\n",
    "minute = timedate_now.minute\n",
    "date_now = [str(month).zfill(2), str(day).zfill(2), str(hour).zfill(2), str(minute).zfill(2)]\n",
    "\n",
    "filename = '03_data/simu.{0}_{1}.{2}_{3}.h5'.format(*date_now)\n",
    "fid      = h5py.File(filename, 'x')\n",
    "dt       = h5py.string_dtype()\n",
    "\n",
    "# Creating groups\n",
    "data_simu     = fid.create_group('data_simu')\n",
    "metadata      = fid.create_group('metadata')\n",
    "model         = fid.create_group('model')\n",
    "fid.flush()\n",
    "\n",
    "# Saving signals\n",
    "data = np.array( list(simu.data.u())     , dtype=np.float64).squeeze()\n",
    "data_simu.create_dataset(\"u\", data=data)\n",
    "\n",
    "data = np.array( list(simu.data.y())     , dtype=np.float64).squeeze()\n",
    "data_simu.create_dataset(\"y\", data=data)\n",
    "\n",
    "data = np.array( list(simu.data.x())     , dtype=np.float64).squeeze()\n",
    "data_simu.create_dataset(\"x\", data=data)\n",
    "\n",
    "data = np.array( list(data_obs)     , dtype=np.float64).squeeze()\n",
    "data_simu.create_dataset(\"o\", data=data)\n",
    "\n",
    "data = np.array( list(simu.data.dx())    , dtype=np.float64).squeeze()\n",
    "data_simu.create_dataset(\"dx\", data=data)\n",
    "\n",
    "data = np.array( list(simu.data.dxH())   , dtype=np.float64).squeeze()\n",
    "data_simu.create_dataset(\"dxH\", data=data)\n",
    "\n",
    "data = np.array( list(simu.data.dtx())   , dtype=np.float64).squeeze()\n",
    "data_simu.create_dataset(\"dtx\", data=data)\n",
    "\n",
    "data = np.array( list(simu.data.w())   , dtype=np.float64).squeeze()\n",
    "data_simu.create_dataset(\"w\", data=data)\n",
    "data = np.array( list(simu.data.z())   , dtype=np.float64).squeeze()\n",
    "data_simu.create_dataset(\"z\", data=data)\n",
    "\n",
    "# time vector\n",
    "data = t_vec\n",
    "data_simu.create_dataset(\"t\", data=data)\n",
    "\n",
    "data\n",
    "\n",
    "data = inits['x']\n",
    "data_simu.create_dataset(\"init_X\", data=data)\n",
    "\n",
    "\n",
    "data = inits['o']\n",
    "data_simu.create_dataset(\"init_o\", data=data)\n",
    "\n",
    "\n",
    "#### données sur le modèle\n",
    "model.create_dataset(name=\"N_tube\", shape=(1,),data=N_tube)\n",
    "model.create_dataset(name=\"forme model\", data=str(forme_model))\n",
    "\n",
    "subs = VT_subs\n",
    "place = model.create_group(\"VT_subs\")\n",
    "\n",
    "for key, val in subs.items():\n",
    "    place.create_dataset(name=key, data=val)\n",
    "\n",
    "subs = body_subs\n",
    "place = model.create_group(\"body_subs\")\n",
    "for key, val in subs.items():\n",
    "    place.create_dataset(name=key, data=val)\n",
    "    \n",
    "# labels\n",
    "str_x_label = []\n",
    "str_u_label = []\n",
    "str_y_label = []\n",
    "str_o_label = []\n",
    "str_w_label = []\n",
    "\n",
    "Nx = len(core.x)\n",
    "Nw = len(core.w)\n",
    "Nu = len(core.u)\n",
    "model.create_dataset(\"Nw\", (1,), data=Nw)\n",
    "model.create_dataset(\"Nx\", (1,), data=Nx)\n",
    "model.create_dataset(\"Nu\", (1,), data=Nu)\n",
    "\n",
    "for label in core.x:\n",
    "    str_x_label.append(str(label).encode('ascii'))\n",
    "for label in core.w:\n",
    "    str_w_label.append(str(label))\n",
    "for label in core.u:\n",
    "    str_u_label.append(str(label))\n",
    "for label in core.y:\n",
    "    str_y_label.append(str(label))\n",
    "for label in core.o():\n",
    "    str_o_label.append(str(label))\n",
    "\n",
    "data = np.array(str_x_label, dtype='S')\n",
    "model.create_dataset(\"x_label\", shape=data.shape, data=data, dtype=dt)\n",
    "\n",
    "data = np.array(str_o_label, dtype='S')\n",
    "model.create_dataset(\"o_label\", shape=data.shape, data=data, dtype=dt)\n",
    "\n",
    "data = np.array(str_w_label, dtype='S')\n",
    "model.create_dataset(\"w_label\", shape=data.shape, data=data, dtype=dt)\n",
    "\n",
    "data = np.array(str_y_label, dtype='S')\n",
    "model.create_dataset(\"y_label\", shape=data.shape, data=data, dtype=dt)\n",
    "\n",
    "data = np.array(str_u_label, dtype='S')\n",
    "model.create_dataset(\"u_label\", shape=data.shape, data=data, dtype=dt)\n",
    "\n",
    "\n",
    "### Config de la simu\n",
    "subs = config\n",
    "metadata.create_dataset(\"config\",(1,),data=str(subs), dtype=dt)\n",
    "\n",
    "data = phs.__version__\n",
    "metadata.create_dataset(\"pyphs_version\",(1,),data=str(data), dtype=dt)\n",
    "\n",
    "data = Nit\n",
    "metadata.create_dataset(\"Nit\", data=data)\n",
    "\n",
    "\n",
    "\n",
    "data = date_now\n",
    "for i, el in enumerate(data):\n",
    "    data[i] = int(el)\n",
    "metadata.create_dataset(\"date_now\", data=data)\n",
    "\n",
    "fid.flush()\n",
    "fid.close()\n",
    "%store filename"
   ]
  },
  {
   "cell_type": "code",
   "execution_count": null,
   "metadata": {
    "scrolled": false
   },
   "outputs": [],
   "source": [
    "%run ./01_GRAPHS_tube_uniforme.ipynb"
   ]
  },
  {
   "cell_type": "code",
   "execution_count": null,
   "metadata": {},
   "outputs": [],
   "source": []
  },
  {
   "cell_type": "code",
   "execution_count": null,
   "metadata": {},
   "outputs": [],
   "source": []
  },
  {
   "cell_type": "code",
   "execution_count": null,
   "metadata": {},
   "outputs": [],
   "source": []
  },
  {
   "cell_type": "code",
   "execution_count": null,
   "metadata": {},
   "outputs": [],
   "source": []
  },
  {
   "cell_type": "code",
   "execution_count": null,
   "metadata": {},
   "outputs": [],
   "source": []
  },
  {
   "cell_type": "code",
   "execution_count": null,
   "metadata": {},
   "outputs": [],
   "source": []
  },
  {
   "cell_type": "code",
   "execution_count": null,
   "metadata": {},
   "outputs": [],
   "source": []
  }
 ],
 "metadata": {
  "kernelspec": {
   "display_name": "Python 3",
   "language": "python",
   "name": "python3"
  },
  "language_info": {
   "codemirror_mode": {
    "name": "ipython",
    "version": 3
   },
   "file_extension": ".py",
   "mimetype": "text/x-python",
   "name": "python",
   "nbconvert_exporter": "python",
   "pygments_lexer": "ipython3",
   "version": "3.8.2"
  }
 },
 "nbformat": 4,
 "nbformat_minor": 2
}
