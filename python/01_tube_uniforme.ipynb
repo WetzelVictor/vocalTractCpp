{
 "cells": [
  {
   "cell_type": "markdown",
   "metadata": {},
   "source": [
    "# Simulations modèle ICSV"
   ]
  },
  {
   "cell_type": "code",
   "execution_count": 1,
   "metadata": {
    "scrolled": true
   },
   "outputs": [
    {
     "data": {
      "text/html": [
       "<style>.container { width:100% !important; }</style>"
      ],
      "text/plain": [
       "<IPython.core.display.HTML object>"
      ]
     },
     "metadata": {},
     "output_type": "display_data"
    }
   ],
   "source": [
    "import vocal_tract_constrained_cpp as vc\n",
    "from body_vocal_tract import *\n",
    "from terminal_impedance import *\n",
    "\n",
    "import pyphs as phs\n",
    "import sympy as sy\n",
    "import numpy as np\n",
    "import os\n",
    "#from utils import signal_generator\n",
    "#from utils import functions\n",
    "#from utils.glottal_signal_generator import glottal_signal\n",
    "#from utils.signal_generator import simple_mouth_opening\n",
    "#from utils.signal_generator import mouth_opening_and_glottal\n",
    "#from utils.timer import Timer as Timer\n",
    "import datetime\n",
    "import pickle\n",
    "import sympy as sy\n",
    "import matplotlib.pyplot as plt\n",
    "from scipy.io.wavfile import write as wavWrite\n",
    "import h5py\n",
    "sy.init_printing()\n",
    "\n",
    "from IPython.core.display import display, HTML\n",
    "display(HTML(\"<style>.container { width:100% !important; }</style>\"))\n",
    "\n",
    "PPTY_PHY_PARAMS = {\"positive\": True, \"real\" : True }                            \n",
    "PPTY_STATE_VAR  = {\"real\" : True }\n",
    "\n",
    "import pdb"
   ]
  },
  {
   "cell_type": "code",
   "execution_count": 2,
   "metadata": {},
   "outputs": [],
   "source": [
    "import time\n",
    "import datetime\n",
    "class Timer(object):\n",
    "    \"\"\" \n",
    "    Allows one to time a particular set of actions.\n",
    "    \n",
    "    Example:\n",
    "    ```(Python)\n",
    "        with Timer('foo_stuff'):\n",
    "           # do some foo\n",
    "           # do some stuff\n",
    "    ```\n",
    "    \n",
    "    Credit: Eli Bendersky\n",
    "    https://stackoverflow.com/questions/5849800/what-is-the-python-equivalent-of-matlabs-tic-and-toc-functions\n",
    "    \"\"\"\n",
    "    def __init__(self, name=None):\n",
    "        self.name = name\n",
    "\n",
    "    def __enter__(self):\n",
    "        self.tstart = time.time()\n",
    "        currentDT = datetime.datetime.now()\n",
    "        print('Start: ' + str(currentDT))\n",
    "\n",
    "    def __exit__(self, type, value, traceback):\n",
    "        if self.name:\n",
    "            print('[%s]' % self.name,)\n",
    "        print('Elapsed: {:4.2f} sec'.format(time.time() - self.tstart))"
   ]
  },
  {
   "cell_type": "code",
   "execution_count": 3,
   "metadata": {},
   "outputs": [],
   "source": [
    "phs.__version__\n",
    "IMPULSE_RESPONSE = True"
   ]
  },
  {
   "cell_type": "markdown",
   "metadata": {},
   "source": [
    "## Instanciation de l'objet `core`\n",
    "On considère que la largeur $L$ est égale à la hauteur au repos $h_0$ pour un tronçon donné.\n",
    "\n",
    "Pour la voyelle A, on prend $A_1 = \\frac{1}{10} A_2$ avec $A_i$ l'aire de la section du tronçon $i=1,2$."
   ]
  },
  {
   "cell_type": "code",
   "execution_count": 4,
   "metadata": {
    "scrolled": true
   },
   "outputs": [],
   "source": [
    "from importlib import reload  \n",
    "reload(vc)\n",
    "\n",
    "N_tube       = 4\n",
    "label        = 'vocal_tract'\n",
    "forme_model  = 'quad_comp_shift'\n",
    "total_length = 0.175\n",
    "\n",
    "h = 0.02 \n",
    "L = h\n",
    "\n",
    "\n",
    "h_ray = 0.08\n",
    "Sray = (h_ray)**2\n",
    "\n",
    "VT_subs = {\n",
    "        'P_0'       : 101.325e03,\n",
    "        'rho_0'     : 1.225,\n",
    "        'gamma'     : 1.4,\n",
    "        'Z_ray'     : 128/(9*Sray),\n",
    "        }\n",
    "\n",
    "# Calcul des V0\n",
    "for i in range(N_tube): # V = 2 * ell * L * h\n",
    "    ind = str(i+1)\n",
    "    VT_subs[\"ell_\" + ind] = total_length/(2*N_tube)\n",
    "    VT_subs[\"L_\" + ind]   = L\n",
    "    Sw                    = 2*VT_subs['ell_' + ind]*L\n",
    "    VT_subs[\"V_0_\" + ind] = Sw*h\n",
    "\n",
    "# Assemblage des dictionnaires\n",
    "VT_subs_tot = dict(VT_subs)\n",
    "\n",
    "core = vc.VocalTractLumpedParameter(\n",
    "                                    N     = N_tube,\n",
    "                                    label = label,\n",
    "                                    **VT_subs_tot,\n",
    "                                    )\n",
    "\n",
    "assert not core.freesymbols(), 'Il manque des valeurs/échelles'"
   ]
  },
  {
   "cell_type": "code",
   "execution_count": 5,
   "metadata": {},
   "outputs": [
    {
     "data": {
      "image/png": "[encoded data removed]",
      "text/latex": [
       "$\\displaystyle \\left\\{ (mu_{1 add \\mu 2)} : \\mu_{1} + \\mu_{2}, \\  (mu_{1minus \\mu 2)} : \\mu_{1} - \\mu_{2}, \\  (mu_{2 add \\mu 3)} : \\mu_{2} + \\mu_{3}, \\  (mu_{2minus \\mu 3)} : \\mu_{2} - \\mu_{3}, \\  (mu_{3 add \\mu 4)} : \\mu_{3} + \\mu_{4}, \\  (mu_{3minus \\mu 4)} : \\mu_{3} - \\mu_{4}, \\  \\Delta_{12} : RHS_{1}, \\  \\Delta_{23} : RHS_{2}, \\  \\Delta_{34} : RHS_{3}, \\  RHS_{1} : - \\frac{(mu_{1minus \\mu 2)} \\nu_{12}}{2} + \\frac{\\mu_{1} \\nu_{L1}}{2} - \\frac{\\mu_{2} \\nu_{23}}{2}, \\  RHS_{2} : - \\frac{(mu_{2minus \\mu 3)} \\nu_{23}}{2} + \\frac{\\mu_{2} \\nu_{12}}{2} - \\frac{\\mu_{3} \\nu_{34}}{2}, \\  RHS_{3} : - \\frac{(mu_{3minus \\mu 4)} \\nu_{34}}{2} + \\frac{\\mu_{3} \\nu_{23}}{2} - \\frac{\\mu_{4} \\nu_{R4}}{2}, \\  \\mu_{1} : \\frac{\\left(V_{0 1} + V_{1}\\right) \\left(\\rho_{0} + \\rho_{1}\\right)}{\\ell_{1}^{2}}, \\  \\mu_{2} : \\frac{\\left(V_{0 2} + V_{2}\\right) \\left(\\rho_{0} + \\rho_{2}\\right)}{\\ell_{2}^{2}}, \\  \\mu_{3} : \\frac{\\left(V_{0 3} + V_{3}\\right) \\left(\\rho_{0} + \\rho_{3}\\right)}{\\ell_{3}^{2}}, \\  \\mu_{4} : \\frac{\\left(V_{0 4} + V_{4}\\right) \\left(\\rho_{0} + \\rho_{4}\\right)}{\\ell_{4}^{2}}\\right\\}$"
      ],
      "text/plain": [
       "OrderedDict(⎡⎛    (V₀ ₁ + V₁)⋅(ρ₀ + ρ₁)⎞  ⎛    (V₀ ₂ + V₂)⋅(ρ₀ + ρ₂)⎞  ⎛    (V₀ ₃ + V₃)⋅(ρ\n",
       "⎢⎜μ₁, ─────────────────────⎟, ⎜μ₂, ─────────────────────⎟, ⎜μ₃, ──────────────\n",
       "⎢⎜                2        ⎟  ⎜                2        ⎟  ⎜                2 \n",
       "⎣⎝            ell₁         ⎠  ⎝            ell₂         ⎠  ⎝            ell₃  \n",
       "\n",
       "₀ + ρ₃)⎞  ⎛    (V₀ ₄ + V₄)⋅(ρ₀ + ρ₄)⎞                                         \n",
       "───────⎟, ⎜μ₄, ─────────────────────⎟, ((mu_1_add_μ_2), μ₁ + μ₂), ((mu_2_add_μ\n",
       "       ⎟  ⎜                2        ⎟                                         \n",
       "       ⎠  ⎝            ell₄         ⎠                                         \n",
       "\n",
       "                                                                              \n",
       "_3), μ₂ + μ₃), ((mu_3_add_μ_4), μ₃ + μ₄), ((mu₁ₘᵢₙᵤₛ ₘᵤ ₂₎, μ₁ - μ₂), ((mu₂ₘᵢₙ\n",
       "                                                                              \n",
       "                                                                              \n",
       "\n",
       "                                                ⎛        (mu₁ₘᵢₙᵤₛ ₘᵤ ₂₎⋅ν₁₂  \n",
       "ᵤₛ ₘᵤ ₃₎, μ₂ - μ₃), ((mu₃ₘᵢₙᵤₛ ₘᵤ ₄₎, μ₃ - μ₄), ⎜RHS₁, - ─────────────────── +\n",
       "                                                ⎝                 2           \n",
       "                                                                              \n",
       "\n",
       " μ₁⋅ν_L1   μ₂⋅ν₂₃⎞  ⎛        (mu₂ₘᵢₙᵤₛ ₘᵤ ₃₎⋅ν₂₃   μ₂⋅ν₁₂   μ₃⋅ν₃₄⎞  ⎛        \n",
       " ─────── - ──────⎟, ⎜RHS₂, - ─────────────────── + ────── - ──────⎟, ⎜RHS₃, - \n",
       "    2        2   ⎠  ⎝                 2              2        2   ⎠  ⎝        \n",
       "                                                                              \n",
       "\n",
       "(mu₃ₘᵢₙᵤₛ ₘᵤ ₄₎⋅ν₃₄   μ₃⋅ν₂₃   μ₄⋅ν_R4⎞                                       \n",
       "─────────────────── + ────── - ───────⎟, (Δ₁₂, RHS₁), (Δ₂₃, RHS₂), (Δ₃₄, RHS₃)\n",
       "         2              2         2   ⎠                                       \n",
       "                                                                              \n",
       "\n",
       "⎤\n",
       "⎥\n",
       "⎥\n",
       "⎦)"
      ]
     },
     "execution_count": 5,
     "metadata": {},
     "output_type": "execute_result"
    }
   ],
   "source": [
    "core.observers"
   ]
  },
  {
   "cell_type": "code",
   "execution_count": 6,
   "metadata": {},
   "outputs": [],
   "source": [
    "# ajout de ressort dans la paroi\n",
    "body = []\n",
    "    \n",
    "for i in range(N_tube):\n",
    "    body.append(DissipativeSingleSpringBody(n=i+1))\n",
    "    core = core +  body[i]\n",
    "    core.add_connector((2, core.y.index(body[i].y[0])), alpha=-1)\n",
    "    \n",
    "\n",
    "# ajout d'une impédance de rayonnement\n",
    "composant_impedance = RadiationImpedance()\n",
    "core = core + composant_impedance\n",
    "core.add_connector((1, core.y.index(composant_impedance.y[0])), alpha=1)\n",
    "\n",
    "\n",
    "core.connect()"
   ]
  },
  {
   "cell_type": "code",
   "execution_count": 7,
   "metadata": {},
   "outputs": [],
   "source": [
    "## Update subs\n",
    "body_subs = {}\n",
    "for i in range(1,N_tube+1):    \n",
    "    body_subs['k_' + str(i)] = 845\n",
    "    body_subs['r_' + str(i)] = 0.8\n",
    "\n",
    "core.subs.update(                                                       \n",
    "    {core.symbols(k,**PPTY_PHY_PARAMS): v for k, v in body_subs.items()}   \n",
    ")"
   ]
  },
  {
   "cell_type": "markdown",
   "metadata": {},
   "source": [
    "## Configuration de la simulation\n",
    "Initialisation des états/observateurs puis paramètres de la simulation"
   ]
  },
  {
   "cell_type": "code",
   "execution_count": 8,
   "metadata": {},
   "outputs": [],
   "source": [
    "inits = {'x' : [0.0 for i in range(len(core.x))]}"
   ]
  },
  {
   "cell_type": "markdown",
   "metadata": {},
   "source": [
    "Calcule des initialisations des observateurs"
   ]
  },
  {
   "cell_type": "raw",
   "metadata": {},
   "source": [
    "expr_obs = []\n",
    "lab_obs = []\n",
    "subs = {}\n",
    "\n",
    "# On récupère les observateurs et leurs expressions\n",
    "for key, val in core.observers.items():\n",
    "    subs[key] = val.subs(core.subs)\n",
    "    lab_obs.append(key)\n",
    "    expr_obs.append(val.subs(subs).subs(core.subs))\n",
    "    \n",
    "# On créé les fonctions numpy\n",
    "f_obs = []\n",
    "for expr in expr_obs:\n",
    "    f_obs.append(sy.lambdify(core.x, expr))\n",
    "    \n",
    "# On évalue les fonctions\n",
    "init_obs = []\n",
    "for func in f_obs:\n",
    "    init_obs.append(func(*inits['x']))\n",
    "    \n",
    "# Formattage numpy\n",
    "init_obs = np.array(init_obs).T\n"
   ]
  },
  {
   "cell_type": "raw",
   "metadata": {},
   "source": [
    "inits['o'] = init_obs"
   ]
  },
  {
   "cell_type": "code",
   "execution_count": 9,
   "metadata": {
    "scrolled": true
   },
   "outputs": [
    {
     "name": "stdout",
     "output_type": "stream",
     "text": [
      "2.220446049250313e-16\n",
      "Start: 2020-05-11 15:36:48.794297\n",
      "Build method vocal_tract...\n",
      "    Init Method...\n",
      "    Build numerical structure...\n",
      "    Init update actions...\n",
      "    Init arguments...\n",
      "        Build x\n",
      "        Build dx\n",
      "        Build w\n",
      "        Build u\n",
      "        Build p\n",
      "        Build vnl\n",
      "        Build o\n",
      "    Init functions...\n",
      "        Build z\n",
      "        Build ud_o\n",
      "        Build jacGnlnl\n",
      "        Build Gnl\n",
      "        Build dxH\n",
      "        Build y\n",
      "Prepare method vocal_tract for C++ generation...\n",
      "    Init value for x\n",
      "[0.0, 0.0, 0.0, 0.0, 0.0, 0.0, 0.0, 0.0, 0.0, 0.0, 0.0, 0.0, 0.0, 0.0, 0.0, 0.0, 0.0, 0.0, 0.0, 0.0, 0.0]\n",
      "    Init value for dx\n",
      "[0, 0, 0, 0, 0, 0, 0, 0, 0, 0, 0, 0, 0, 0, 0, 0, 0, 0, 0, 0, 0]\n",
      "    Init value for ud_x\n",
      "    Init value for o\n",
      "[0, 0, 0, 0, 0, 0, 0, 0, 0, 0, 0, 0, 0, 0, 0, 0]\n",
      "    Init value for ud_o\n",
      "[0.0448000000000000, 0.0448000000000000, 0.0448000000000000, 0.0448000000000000, 0, 0, 0, 0, 0, 0, 0, 0, 0, 0, 0, 0]\n",
      "    Init value for Gnl\n",
      "[0, 0, 0, 0, 0, 0, 0, 0, 0, 0, 0, 0, 0, 0, 0, 0, 0, 0, 0, 0, 0, 0, 0, 0, 0, 0]\n",
      "    Init value for Fnl\n",
      "    Init value for res_Fnl\n",
      "    Init value for save_Fnl\n",
      "    Init value for jacGnlnl\n",
      "    Init value for jacFnl\n",
      "    Init value for ijacFnl\n",
      "    Init value for vnl\n",
      "[0, 0, 0, 0, 0, 0, 0, 0, 0, 0, 0, 0, 0, 0, 0, 0, 0, 0, 0, 0, 0, 0, 0, 0, 0, 0]\n",
      "    Init value for ud_vnl\n",
      "    Init value for step_Fnl\n",
      "    Init value for dxH\n",
      "[0, 0, 0, 0, 0, 0, 0, 0, 0, 0, 0, 0, 0, 0, 0, 0, 0, 0, 0, 0, 0]\n",
      "    Init value for z\n",
      "[0, 0, 0, 0, 0]\n",
      "    Init value for y\n",
      "    Init value for w\n",
      "[0, 0, 0, 0, 0]\n",
      "    Init value for u\n",
      "[0, 0, 0, 0, 0]\n",
      "    Init value for p\n",
      "[]\n",
      "Generate core C++ object vocal_tract...\n",
      "    Build parameters...\n",
      "    Build update...\n",
      "    Build arguments...\n",
      "    Build functions...\n",
      "    Definitions...\n",
      "    Accessors (matrix)...\n",
      "    Accessors (vector)...\n",
      "    Accessors (element)...\n",
      "    Update...\n",
      "        Build x...\n",
      "        Build dx...\n",
      "        Build ud_x...\n",
      "        Build o...\n",
      "        Build ud_o...\n",
      "        Build Gnl...\n",
      "        Build Fnl...\n",
      "        Build res_Fnl...\n",
      "        Build save_Fnl...\n",
      "        Build jacGnlnl...\n",
      "        Build jacFnl...\n",
      "        Build ijacFnl...\n",
      "        Build vnl...\n",
      "        Build ud_vnl...\n",
      "        Build step_Fnl...\n",
      "        Build dxH...\n",
      "        Build z...\n",
      "        Build y...\n",
      "        Build w...\n",
      "        Build u...\n",
      "        Build p...\n",
      "    Data...\n",
      "    Initialisation...\n",
      "    Build operations...\n",
      "    Build initialisation...\n",
      "    Build constructors...\n",
      "    Build destructor...\n",
      "    Write /home/victorw/ownCloud/IRCAM/03_DOCS/30_code_cpp_vocal_tract/02_python/03_data/vocal_tract/src/core.cpp...\n",
      "    Write /home/victorw/ownCloud/IRCAM/03_DOCS/30_code_cpp_vocal_tract/02_python/03_data/vocal_tract/src/core.h...\n",
      "    Write /home/victorw/ownCloud/IRCAM/03_DOCS/30_code_cpp_vocal_tract/02_python/03_data/vocal_tract/src/parameters.cpp\n",
      "    Write /home/victorw/ownCloud/IRCAM/03_DOCS/30_code_cpp_vocal_tract/02_python/03_data/vocal_tract/src/parameters.h\n",
      "Build data i/o...\n",
      "[Building method]\n",
      "Elapsed: 116.25 sec\n"
     ]
    }
   ],
   "source": [
    "config = {'fs'   : 1e6, # sample rate (Hz)\n",
    "          'path' : os.path.join(os.getcwd(), '03_data'), # folder for output results/build\n",
    "          'lang' : 'c++',\n",
    "          'cmake': r'cmake',\n",
    "          'grad' : 'discret',\n",
    "          'maxit': 20,\n",
    "          'pbar' : False,\n",
    "          'split': False,\n",
    "          'timer': True,\n",
    "          'epsdg': np.power(np.finfo(np.float64).eps, 0.5),\n",
    "          'eps'  : np.finfo(np.float64).eps,\n",
    "         }\n",
    "print(np.finfo(np.float64).eps)\n",
    "\n",
    "\n",
    "with Timer('Building method'):\n",
    "    simu = core.to_simulation(\n",
    "                              config, \n",
    "                              erase = True,\n",
    "                              inits = inits\n",
    "                             )"
   ]
  },
  {
   "cell_type": "code",
   "execution_count": 10,
   "metadata": {},
   "outputs": [],
   "source": [
    "tmax  = 0.25\n",
    "Nit   = int(tmax*config['fs'])\n",
    "t_vec = np.linspace(0, tmax, Nit)"
   ]
  },
  {
   "cell_type": "code",
   "execution_count": null,
   "metadata": {},
   "outputs": [],
   "source": []
  },
  {
   "cell_type": "markdown",
   "metadata": {},
   "source": [
    "on initialise les observateurs à leur valeur au repos"
   ]
  },
  {
   "cell_type": "code",
   "execution_count": null,
   "metadata": {},
   "outputs": [],
   "source": []
  },
  {
   "cell_type": "markdown",
   "metadata": {},
   "source": [
    "## Signaux d'entrée"
   ]
  },
  {
   "cell_type": "code",
   "execution_count": 11,
   "metadata": {},
   "outputs": [],
   "source": [
    "t_imp = 0.001\n",
    "ind_start = int(t_imp*config['fs'])\n",
    "if IMPULSE_RESPONSE:\n",
    "    u = np.zeros((Nit, len(core.u)))\n",
    "    u[ind_start,0] = 1"
   ]
  },
  {
   "cell_type": "markdown",
   "metadata": {},
   "source": [
    "## Simulation"
   ]
  },
  {
   "cell_type": "code",
   "execution_count": 12,
   "metadata": {
    "scrolled": true
   },
   "outputs": [
    {
     "name": "stdout",
     "output_type": "stream",
     "text": [
      "Build de la simulation à 2020-05-11 15:38:45.077454\n",
      "Write u to hdf5 file...\n",
      "Write u to hdf5 file: Done.\n",
      "Simulation démarée à 2020-05-11 15:38:51.554652\n",
      "Start: 2020-05-11 15:38:51.554795\n",
      "Simulation: Process...\n",
      "-- The CXX compiler identification is GNU 9.3.0\n",
      "\n",
      "-- Check for working CXX compiler: /usr/bin/c++\n",
      "\n",
      "-- Check for working CXX compiler: /usr/bin/c++ - works\n",
      "\n",
      "-- Detecting CXX compiler ABI info\n",
      "\n",
      "-- Detecting CXX compiler ABI info - done\n",
      "\n",
      "-- Detecting CXX compile features\n",
      "\n",
      "-- Detecting CXX compile features - done\n",
      "\n",
      "-- HDF5: Using hdf5 compiler wrapper to determine CXX configuration\n",
      "\n",
      "-- Found HDF5: /usr/lib/libhdf5_cpp.so;/usr/lib/libhdf5.so;/usr/lib/libsz.so;/usr/lib/libz.so;/usr/lib/libdl.so;/usr/lib/libm.so (found version \"1.12.0\") found components: HL CXX \n",
      "\n",
      "-- Configuring done\n",
      "\n",
      "-- Generating done\n",
      "\n",
      "-- Build files have been written to: /home/victorw/ownCloud/IRCAM/03_DOCS/30_code_cpp_vocal_tract/02_python/03_data/vocal_tract/build\n",
      "\n",
      "Scanning dependencies of target vocal_tract\n",
      "\n",
      "[ 25%] Building CXX object CMakeFiles/vocal_tract.dir/src/core.cpp.o\n",
      "\n",
      "[ 50%] Building CXX object CMakeFiles/vocal_tract.dir/src/parameters.cpp.o\n",
      "\n",
      "[ 75%] Building CXX object CMakeFiles/vocal_tract.dir/src/simu.cpp.o\n",
      "\n",
      "[100%] Linking CXX executable ../bin/vocal_tract\n",
      "\n",
      "[100%] Built target vocal_tract\n",
      "\n",
      "./bin/vocal_tract\n",
      "\n",
      "\n",
      "=======================================\n",
      "\n",
      "\n",
      "\n",
      "Start simulation of vocal_tract...\n",
      "\n",
      "\n",
      "\n",
      "\n",
      "\n",
      "Results written in\n",
      "\n",
      "/home/victorw/ownCloud/IRCAM/03_DOCS/30_code_cpp_vocal_tract/02_python/03_data/data/results.h5\n",
      "\n",
      "\n",
      "\n",
      "\n",
      "\n",
      "Total time: 24.977238416671753s\n",
      "Total time w.r.t number of time-steps: 9.990895366668701e-05s\n",
      "\n",
      "Simulation: Done\n",
      "[Simulation]\n",
      "Elapsed: 24.98 sec\n",
      "Simulation finie à 2020-05-11 15:39:16.533589\n"
     ]
    }
   ],
   "source": [
    "print('Build de la simulation à {0}'.format(datetime.datetime.now()))\n",
    "simu.init(\n",
    "        u     = u,\n",
    "        nt    = Nit,\n",
    "        #inits = inits\n",
    "        )\n",
    "print('Simulation démarée à {0}'.format(datetime.datetime.now()))\n",
    "with Timer('Simulation'):\n",
    "    simu.process()\n",
    "print('Simulation finie à {0}'.format(datetime.datetime.now()))"
   ]
  },
  {
   "cell_type": "markdown",
   "metadata": {},
   "source": [
    "## Données\n",
    "On fait l'évaluation des observateurs nous même pour gagner du temps"
   ]
  },
  {
   "cell_type": "code",
   "execution_count": 13,
   "metadata": {},
   "outputs": [
    {
     "ename": "NameError",
     "evalue": "name 'f_obs' is not defined",
     "output_type": "error",
     "traceback": [
      "\u001b[0;31m---------------------------------------------------------------------------\u001b[0m",
      "\u001b[0;31mNameError\u001b[0m                                 Traceback (most recent call last)",
      "\u001b[0;32m<ipython-input-13-74307fc5be59>\u001b[0m in \u001b[0;36m<module>\u001b[0;34m\u001b[0m\n\u001b[1;32m     18\u001b[0m \u001b[0;31m# On évalue les fonctions\u001b[0m\u001b[0;34m\u001b[0m\u001b[0;34m\u001b[0m\u001b[0;34m\u001b[0m\u001b[0m\n\u001b[1;32m     19\u001b[0m \u001b[0mdata_obs\u001b[0m \u001b[0;34m=\u001b[0m \u001b[0;34m[\u001b[0m\u001b[0;34m]\u001b[0m\u001b[0;34m\u001b[0m\u001b[0;34m\u001b[0m\u001b[0m\n\u001b[0;32m---> 20\u001b[0;31m \u001b[0;32mfor\u001b[0m \u001b[0mfunc\u001b[0m \u001b[0;32min\u001b[0m \u001b[0mf_obs\u001b[0m\u001b[0;34m:\u001b[0m\u001b[0;34m\u001b[0m\u001b[0;34m\u001b[0m\u001b[0m\n\u001b[0m\u001b[1;32m     21\u001b[0m     \u001b[0mdata_obs\u001b[0m\u001b[0;34m.\u001b[0m\u001b[0mappend\u001b[0m\u001b[0;34m(\u001b[0m\u001b[0mfunc\u001b[0m\u001b[0;34m(\u001b[0m\u001b[0;34m*\u001b[0m\u001b[0msimu\u001b[0m\u001b[0;34m.\u001b[0m\u001b[0mdata\u001b[0m\u001b[0;34m.\u001b[0m\u001b[0mx\u001b[0m\u001b[0;34m(\u001b[0m\u001b[0;34m)\u001b[0m\u001b[0;34m.\u001b[0m\u001b[0mT\u001b[0m\u001b[0;34m)\u001b[0m\u001b[0;34m)\u001b[0m\u001b[0;34m\u001b[0m\u001b[0;34m\u001b[0m\u001b[0m\n\u001b[1;32m     22\u001b[0m \u001b[0;34m\u001b[0m\u001b[0m\n",
      "\u001b[0;31mNameError\u001b[0m: name 'f_obs' is not defined"
     ]
    }
   ],
   "source": [
    "''' Commenté car on a déjà créé les fonctions pour initialiser les observateurs\n",
    "expr_obs = []\n",
    "lab_obs = []\n",
    "subs = {}\n",
    "\n",
    "# On récupère les observateurs et leurs expressions\n",
    "for key, val in core.observers.items():\n",
    "    subs[key] = val.subs(core.subs)\n",
    "    lab_obs.append(key)\n",
    "    expr_obs.append(val.subs(subs).subs(core.subs))\n",
    "    \n",
    "# On créé les fonctions numpy\n",
    "f_obs = []\n",
    "for expr in expr_obs:\n",
    "    f_obs.append(sy.lambdify(core.x, expr))\n",
    "'''\n",
    "\n",
    "# On évalue les fonctions\n",
    "data_obs = []\n",
    "for func in f_obs:\n",
    "    data_obs.append(func(*simu.data.x().T))\n",
    "    \n",
    "# Formattage numpy\n",
    "data_obs = np.array(data_obs).T"
   ]
  },
  {
   "cell_type": "code",
   "execution_count": null,
   "metadata": {},
   "outputs": [],
   "source": [
    "# Date, heure etc...\n",
    "timedate_now = datetime.datetime.now()\n",
    "month  = timedate_now.month\n",
    "day    = timedate_now.day\n",
    "hour   = timedate_now.hour\n",
    "minute = timedate_now.minute\n",
    "date_now = [str(month).zfill(2), str(day).zfill(2), str(hour).zfill(2), str(minute).zfill(2)]\n",
    "\n",
    "filename = '03_data/simu.{0}_{1}.{2}_{3}.h5'.format(*date_now)\n",
    "fid      = h5py.File(filename, 'x')\n",
    "dt       = h5py.string_dtype()\n",
    "\n",
    "# Creating groups\n",
    "data_simu     = fid.create_group('data_simu')\n",
    "metadata      = fid.create_group('metadata')\n",
    "model         = fid.create_group('model')\n",
    "fid.flush()\n",
    "\n",
    "# Saving signals\n",
    "data = np.array( list(simu.data.u())     , dtype=np.float64).squeeze()\n",
    "data_simu.create_dataset(\"u\", data=data)\n",
    "\n",
    "data = np.array( list(simu.data.y())     , dtype=np.float64).squeeze()\n",
    "data_simu.create_dataset(\"y\", data=data)\n",
    "\n",
    "data = np.array( list(simu.data.x())     , dtype=np.float64).squeeze()\n",
    "data_simu.create_dataset(\"x\", data=data)\n",
    "\n",
    "data = np.array( list(data_obs)     , dtype=np.float64).squeeze()\n",
    "data_simu.create_dataset(\"o\", data=data)\n",
    "\n",
    "data = np.array( list(simu.data.dx())    , dtype=np.float64).squeeze()\n",
    "data_simu.create_dataset(\"dx\", data=data)\n",
    "\n",
    "data = np.array( list(simu.data.dxH())   , dtype=np.float64).squeeze()\n",
    "data_simu.create_dataset(\"dxH\", data=data)\n",
    "\n",
    "data = np.array( list(simu.data.dtx())   , dtype=np.float64).squeeze()\n",
    "data_simu.create_dataset(\"dtx\", data=data)\n",
    "\n",
    "data = np.array( list(simu.data.w())   , dtype=np.float64).squeeze()\n",
    "data_simu.create_dataset(\"w\", data=data)\n",
    "data = np.array( list(simu.data.z())   , dtype=np.float64).squeeze()\n",
    "data_simu.create_dataset(\"z\", data=data)\n",
    "\n",
    "# time vector\n",
    "data = t_vec\n",
    "data_simu.create_dataset(\"t\", data=data)\n",
    "\n",
    "data\n",
    "\n",
    "data = inits['x']\n",
    "data_simu.create_dataset(\"init_X\", data=data)\n",
    "\n",
    "\n",
    "data = inits['o']\n",
    "data_simu.create_dataset(\"init_o\", data=data)\n",
    "\n",
    "\n",
    "#### données sur le modèle\n",
    "model.create_dataset(name=\"N_tube\", shape=(1,),data=N_tube)\n",
    "model.create_dataset(name=\"forme model\", data=str(forme_model))\n",
    "\n",
    "subs = VT_subs\n",
    "place = model.create_group(\"VT_subs\")\n",
    "\n",
    "for key, val in subs.items():\n",
    "    place.create_dataset(name=key, data=val)\n",
    "\n",
    "subs = body_subs\n",
    "place = model.create_group(\"body_subs\")\n",
    "for key, val in subs.items():\n",
    "    place.create_dataset(name=key, data=val)\n",
    "    \n",
    "# labels\n",
    "str_x_label = []\n",
    "str_u_label = []\n",
    "str_y_label = []\n",
    "str_o_label = []\n",
    "str_w_label = []\n",
    "\n",
    "Nx = len(core.x)\n",
    "Nw = len(core.w)\n",
    "Nu = len(core.u)\n",
    "model.create_dataset(\"Nw\", (1,), data=Nw)\n",
    "model.create_dataset(\"Nx\", (1,), data=Nx)\n",
    "model.create_dataset(\"Nu\", (1,), data=Nu)\n",
    "\n",
    "for label in core.x:\n",
    "    str_x_label.append(str(label).encode('ascii'))\n",
    "for label in core.w:\n",
    "    str_w_label.append(str(label))\n",
    "for label in core.u:\n",
    "    str_u_label.append(str(label))\n",
    "for label in core.y:\n",
    "    str_y_label.append(str(label))\n",
    "for label in core.o():\n",
    "    str_o_label.append(str(label))\n",
    "\n",
    "data = np.array(str_x_label, dtype='S')\n",
    "model.create_dataset(\"x_label\", shape=data.shape, data=data, dtype=dt)\n",
    "\n",
    "data = np.array(str_o_label, dtype='S')\n",
    "model.create_dataset(\"o_label\", shape=data.shape, data=data, dtype=dt)\n",
    "\n",
    "data = np.array(str_w_label, dtype='S')\n",
    "model.create_dataset(\"w_label\", shape=data.shape, data=data, dtype=dt)\n",
    "\n",
    "data = np.array(str_y_label, dtype='S')\n",
    "model.create_dataset(\"y_label\", shape=data.shape, data=data, dtype=dt)\n",
    "\n",
    "data = np.array(str_u_label, dtype='S')\n",
    "model.create_dataset(\"u_label\", shape=data.shape, data=data, dtype=dt)\n",
    "\n",
    "\n",
    "### Config de la simu\n",
    "subs = config\n",
    "metadata.create_dataset(\"config\",(1,),data=str(subs), dtype=dt)\n",
    "\n",
    "data = phs.__version__\n",
    "metadata.create_dataset(\"pyphs_version\",(1,),data=str(data), dtype=dt)\n",
    "\n",
    "data = Nit\n",
    "metadata.create_dataset(\"Nit\", data=data)\n",
    "\n",
    "\n",
    "\n",
    "data = date_now\n",
    "for i, el in enumerate(data):\n",
    "    data[i] = int(el)\n",
    "metadata.create_dataset(\"date_now\", data=data)\n",
    "\n",
    "fid.flush()\n",
    "fid.close()\n",
    "%store filename"
   ]
  },
  {
   "cell_type": "code",
   "execution_count": null,
   "metadata": {
    "scrolled": false
   },
   "outputs": [],
   "source": [
    "%run ./01_GRAPHS_tube_uniforme.ipynb"
   ]
  },
  {
   "cell_type": "code",
   "execution_count": null,
   "metadata": {},
   "outputs": [],
   "source": []
  },
  {
   "cell_type": "code",
   "execution_count": null,
   "metadata": {},
   "outputs": [],
   "source": []
  },
  {
   "cell_type": "code",
   "execution_count": null,
   "metadata": {},
   "outputs": [],
   "source": []
  },
  {
   "cell_type": "code",
   "execution_count": null,
   "metadata": {},
   "outputs": [],
   "source": []
  },
  {
   "cell_type": "code",
   "execution_count": null,
   "metadata": {},
   "outputs": [],
   "source": []
  },
  {
   "cell_type": "code",
   "execution_count": null,
   "metadata": {},
   "outputs": [],
   "source": []
  },
  {
   "cell_type": "code",
   "execution_count": null,
   "metadata": {},
   "outputs": [],
   "source": []
  }
 ],
 "metadata": {
  "kernelspec": {
   "display_name": "Python 3",
   "language": "python",
   "name": "python3"
  },
  "language_info": {
   "codemirror_mode": {
    "name": "ipython",
    "version": 3
   },
   "file_extension": ".py",
   "mimetype": "text/x-python",
   "name": "python",
   "nbconvert_exporter": "python",
   "pygments_lexer": "ipython3",
   "version": "3.8.2"
  }
 },
 "nbformat": 4,
 "nbformat_minor": 2
}
