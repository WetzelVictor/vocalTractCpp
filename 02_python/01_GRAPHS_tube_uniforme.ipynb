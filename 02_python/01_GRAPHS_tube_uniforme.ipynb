{
 "cells": [
  {
   "cell_type": "markdown",
   "metadata": {},
   "source": [
    "# Traitement des données des simulations"
   ]
  },
  {
   "cell_type": "code",
   "execution_count": 1,
   "metadata": {},
   "outputs": [
    {
     "data": {
      "text/html": [
       "<style>.container { width:100% !important; }</style>"
      ],
      "text/plain": [
       "<IPython.core.display.HTML object>"
      ]
     },
     "metadata": {},
     "output_type": "display_data"
    }
   ],
   "source": [
    "import matplotlib.pyplot as plt\n",
    "import matplotlib as mpl\n",
    "import numpy as np\n",
    "import pickle\n",
    "import scipy\n",
    "from scipy import signal\n",
    "import sympy as sy\n",
    "from IPython.display import display\n",
    "from scipy.io.wavfile import write as wavWrite\n",
    "import h5py\n",
    "import ast\n",
    "import os\n",
    "import sys\n",
    "import shutil\n",
    "sy.init_printing()\n",
    "#import tikzplotlib\n",
    "\n",
    "from IPython.core.display import display, HTML\n",
    "display(HTML(\"<style>.container { width:100% !important; }</style>\"))"
   ]
  },
  {
   "cell_type": "code",
   "execution_count": 2,
   "metadata": {},
   "outputs": [],
   "source": [
    "# Settings pour les figures matplotlib\n",
    "mpl.rcParams['figure.dpi'] = 72\n",
    "\n",
    "#%matplotlib nbagg\n",
    "\n",
    "FIGSIZE  = (10,5)\n",
    "FONTSIZE = 30\n",
    "TICK_FONTSIZE = 24\n",
    "LEGEND_FONTSIZE = 22\n",
    "\n",
    "font = {'family' : 'serif',\n",
    "        'weight' : 'bold',\n",
    "        'size'   : 18}\n",
    "\n",
    "plt.rc('font', **font)\n",
    "plt.rc('text', usetex=True)\n",
    "LATEX_FIG_PATH = \"../01_FIGS/\"\n",
    "FIGS_PATH      = \"02_figs/\"\n",
    "PPTY_XVBAR = {'c':  'r', \n",
    "              'linestyle':'-.', \n",
    "              'linewidth':0.75,\n",
    "             }\n",
    "PPTY_LEG = { 'fontsize' : 16,\n",
    "             'loc'      : 'upper left',\n",
    "           }"
   ]
  },
  {
   "cell_type": "code",
   "execution_count": 3,
   "metadata": {},
   "outputs": [],
   "source": [
    "fmt = lambda s: r'%s_{%s}' % (s.split('_', 1)[0], s.split('_', 1)[1].replace('_', ''))\n",
    "\n",
    "def export2tikzpdf(path, name):\n",
    "    \"\"\" Exporte la figure courante dans un nouveau dossier,\n",
    "    en y ajoutant un numéro unique, ordre croissant\n",
    "    @args: path: chemin vers le dossier d'export\n",
    "    @args: name: nom du dossier \n",
    "    \"\"\"\n",
    "    # Liste des dossier dans le path    \n",
    "    list_dir = []\n",
    "    for (dirpath, dirnames, filenames) in os.walk(path):\n",
    "        list_dir.extend(dirnames)\n",
    "        break\n",
    "        \n",
    "        \n",
    "    # Dans le cas où la liste de dossier est vide\n",
    "    if not list_dir:\n",
    "        list_dir.append(str(0))\n",
    "    \n",
    "    # Nombre le plus grand?\n",
    "    for i in range(len(list_dir)):\n",
    "        list_dir[i] = int(list_dir[i][0:2])\n",
    "        \n",
    "    # rajoute un zéro au debut si < 10 (formattage)\n",
    "    new_fig_number = str(max(list_dir) + 1).zfill(2)\n",
    "\n",
    "    full_path_new_dir = os.path.join(path, \n",
    "                                     str(new_fig_number) + '_' + name)\n",
    "    \n",
    "    # Création du nouveau dossier\n",
    "    os.mkdir(full_path_new_dir)\n",
    "    \n",
    "    # Copie des fichiers de makefile + conteneur latex\n",
    "    src_files = ['fig_main.tex', 'makefile']\n",
    "    dst_files = ['','']\n",
    "    for i in range(len(src_files)):\n",
    "        dst_files[i] = os.path.join(full_path_new_dir, src_files[i])\n",
    "        src_files[i] = os.path.join(path, src_files[i])\n",
    "        shutil.copyfile(src_files[i], dst_files[i])\n",
    "\n",
    "    # generation du fichier tikz\n",
    "    tikz_file_path = os.path.join(full_path_new_dir,\"fig.tex\")\n",
    "    tikzplotlib.save(tikz_file_path)\n",
    "    \n",
    "def next_power_of_2(x):  \n",
    "    return 1 if x == 0 else 2**(x - 1).bit_length()"
   ]
  },
  {
   "cell_type": "markdown",
   "metadata": {},
   "source": [
    "### Chargement des données"
   ]
  },
  {
   "cell_type": "code",
   "execution_count": 4,
   "metadata": {},
   "outputs": [
    {
     "name": "stdout",
     "output_type": "stream",
     "text": [
      "03_data/simu.05_19.13_51.h5\n",
      "5 19 13 51\n"
     ]
    }
   ],
   "source": [
    "#%% Loading dataset\n",
    "%store -r filename \n",
    "filename = '03_data/simu.05_19.13_51.h5'\n",
    "print(filename)\n",
    "\n",
    "fid = h5py.File(filename, 'r')\n",
    "fid.flush()\n",
    "\n",
    "metadata = fid[\"metadata\"]\n",
    "data     = fid[\"data_simu\"]\n",
    "model    = fid[\"model\"]\n",
    "\n",
    "date_now = metadata[\"date_now\"][:]\n",
    "config = ast.literal_eval(str(metadata[\"config\"][0]))\n",
    "print(*date_now)"
   ]
  },
  {
   "cell_type": "code",
   "execution_count": 6,
   "metadata": {},
   "outputs": [],
   "source": [
    "SAVE_FIG = True\n",
    "if SAVE_FIG:\n",
    "    FOLDER_PATH = FIGS_PATH + \"simu_{0}_{1}.{2}_{3}\".format(*(str(val).zfill(2) for val in date_now))\n",
    "    os.mkdir(FOLDER_PATH)"
   ]
  },
  {
   "cell_type": "code",
   "execution_count": 7,
   "metadata": {},
   "outputs": [],
   "source": [
    "t = data[\"t\"][:]\n",
    "tmax = max(t)\n",
    "indt = (t <= tmax) * (t >= 0.0)\n",
    "\n",
    "N_ports, Nx, NW = model[\"Nu\"][0], model[\"Nx\"][0], model[\"Nw\"][0]"
   ]
  },
  {
   "cell_type": "code",
   "execution_count": 8,
   "metadata": {},
   "outputs": [],
   "source": [
    "#xbar = [t[300],]\n",
    "#xbar = [0.1, 0.2]\n",
    "xbar = [0.0771]"
   ]
  },
  {
   "cell_type": "code",
   "execution_count": 9,
   "metadata": {
    "scrolled": true
   },
   "outputs": [
    {
     "data": {
      "text/plain": [
       "{'fs': 1000000.0,\n",
       " 'path': '/home/victorw/ownCloud/IRCAM/03_DOCS/30_code_cpp_vocal_tract/vocalTractCpp/02_python/03_data',\n",
       " 'lang': 'c++',\n",
       " 'cmake': 'cmake',\n",
       " 'grad': 'discret',\n",
       " 'maxit': 20,\n",
       " 'pbar': False,\n",
       " 'split': False,\n",
       " 'timer': True,\n",
       " 'epsdg': 1.4901161193847656e-08,\n",
       " 'eps': 2.220446049250313e-16}"
      ]
     },
     "execution_count": 9,
     "metadata": {},
     "output_type": "execute_result"
    }
   ],
   "source": [
    "config"
   ]
  },
  {
   "cell_type": "code",
   "execution_count": 10,
   "metadata": {},
   "outputs": [],
   "source": [
    "volume_refs = [model[\"VT_subs\"][\"V_0_1\"][()], model[\"VT_subs\"][\"V_0_2\"][()]]\n",
    "rho_refs    = [model[\"VT_subs\"][\"rho_0\"][()], model[\"VT_subs\"][\"rho_0\"][()]]"
   ]
  },
  {
   "cell_type": "code",
   "execution_count": 11,
   "metadata": {},
   "outputs": [
    {
     "name": "stdout",
     "output_type": "stream",
     "text": [
      "L_1 = 0.020000\n",
      "L_10 = 0.020000\n",
      "L_11 = 0.020000\n",
      "L_12 = 0.020000\n",
      "L_13 = 0.020000\n",
      "L_14 = 0.020000\n",
      "L_15 = 0.020000\n",
      "L_16 = 0.020000\n",
      "L_17 = 0.020000\n",
      "L_18 = 0.020000\n",
      "L_19 = 0.020000\n",
      "L_2 = 0.020000\n",
      "L_20 = 0.020000\n",
      "L_3 = 0.020000\n",
      "L_4 = 0.020000\n",
      "L_5 = 0.020000\n",
      "L_6 = 0.020000\n",
      "L_7 = 0.020000\n",
      "L_8 = 0.020000\n",
      "L_9 = 0.020000\n",
      "P_0 = 101325.000000\n",
      "V_0_1 = 0.000003\n",
      "V_0_10 = 0.000003\n",
      "V_0_11 = 0.000003\n",
      "V_0_12 = 0.000003\n",
      "V_0_13 = 0.000003\n",
      "V_0_14 = 0.000003\n",
      "V_0_15 = 0.000003\n",
      "V_0_16 = 0.000003\n",
      "V_0_17 = 0.000003\n",
      "V_0_18 = 0.000003\n",
      "V_0_19 = 0.000003\n",
      "V_0_2 = 0.000003\n",
      "V_0_20 = 0.000003\n",
      "V_0_3 = 0.000003\n",
      "V_0_4 = 0.000003\n",
      "V_0_5 = 0.000003\n",
      "V_0_6 = 0.000003\n",
      "V_0_7 = 0.000003\n",
      "V_0_8 = 0.000003\n",
      "V_0_9 = 0.000003\n",
      "Z_ray = 2222.222222\n",
      "ell_1 = 0.004375\n",
      "ell_10 = 0.004375\n",
      "ell_11 = 0.004375\n",
      "ell_12 = 0.004375\n",
      "ell_13 = 0.004375\n",
      "ell_14 = 0.004375\n",
      "ell_15 = 0.004375\n",
      "ell_16 = 0.004375\n",
      "ell_17 = 0.004375\n",
      "ell_18 = 0.004375\n",
      "ell_19 = 0.004375\n",
      "ell_2 = 0.004375\n",
      "ell_20 = 0.004375\n",
      "ell_3 = 0.004375\n",
      "ell_4 = 0.004375\n",
      "ell_5 = 0.004375\n",
      "ell_6 = 0.004375\n",
      "ell_7 = 0.004375\n",
      "ell_8 = 0.004375\n",
      "ell_9 = 0.004375\n",
      "gamma = 1.400000\n",
      "rho_0 = 1.225000\n"
     ]
    }
   ],
   "source": [
    "# On récupère les VT_subs\n",
    "params_label = list(model[\"VT_subs\"].keys())\n",
    "ell_1 = model[\"VT_subs\"][\"ell_1\"][()]\n",
    "\n",
    "for label in params_label:\n",
    "    value = model[\"VT_subs\"][label][()]\n",
    "    exec(\"%s = %f\" % (label, value))\n",
    "    print(\"%s = %f\" % (label, value))"
   ]
  },
  {
   "cell_type": "code",
   "execution_count": null,
   "metadata": {
    "scrolled": false
   },
   "outputs": [],
   "source": []
  },
  {
   "cell_type": "markdown",
   "metadata": {},
   "source": [
    "--------------\n",
    "## Entrées"
   ]
  },
  {
   "cell_type": "code",
   "execution_count": 12,
   "metadata": {
    "scrolled": false
   },
   "outputs": [
    {
     "ename": "KeyboardInterrupt",
     "evalue": "",
     "output_type": "error",
     "traceback": [
      "\u001b[0;31m---------------------------------------------------------------------------\u001b[0m",
      "\u001b[0;31mTypeError\u001b[0m                                 Traceback (most recent call last)",
      "\u001b[0;32m~/.virtualenvs/pyphs/lib/python3.8/site-packages/h5py/_hl/selections.py\u001b[0m in \u001b[0;36mselect\u001b[0;34m(shape, args, dsid)\u001b[0m\n\u001b[1;32m     84\u001b[0m             \u001b[0;32mtry\u001b[0m\u001b[0;34m:\u001b[0m\u001b[0;34m\u001b[0m\u001b[0;34m\u001b[0m\u001b[0m\n\u001b[0;32m---> 85\u001b[0;31m                 \u001b[0mint\u001b[0m\u001b[0;34m(\u001b[0m\u001b[0ma\u001b[0m\u001b[0;34m)\u001b[0m\u001b[0;34m\u001b[0m\u001b[0;34m\u001b[0m\u001b[0m\n\u001b[0m\u001b[1;32m     86\u001b[0m                 \u001b[0;32mif\u001b[0m \u001b[0misinstance\u001b[0m\u001b[0;34m(\u001b[0m\u001b[0ma\u001b[0m\u001b[0;34m,\u001b[0m \u001b[0mnp\u001b[0m\u001b[0;34m.\u001b[0m\u001b[0mndarray\u001b[0m\u001b[0;34m)\u001b[0m \u001b[0;32mand\u001b[0m \u001b[0ma\u001b[0m\u001b[0;34m.\u001b[0m\u001b[0mshape\u001b[0m \u001b[0;34m==\u001b[0m \u001b[0;34m(\u001b[0m\u001b[0;36m1\u001b[0m\u001b[0;34m,\u001b[0m\u001b[0;34m)\u001b[0m\u001b[0;34m:\u001b[0m\u001b[0;34m\u001b[0m\u001b[0;34m\u001b[0m\u001b[0m\n",
      "\u001b[0;31mTypeError\u001b[0m: only size-1 arrays can be converted to Python scalars",
      "\nDuring handling of the above exception, another exception occurred:\n",
      "\u001b[0;31mKeyboardInterrupt\u001b[0m                         Traceback (most recent call last)",
      "\u001b[0;32m<ipython-input-12-27104b9aa4c0>\u001b[0m in \u001b[0;36m<module>\u001b[0;34m\u001b[0m\n\u001b[1;32m     14\u001b[0m \u001b[0;32mfor\u001b[0m \u001b[0mi\u001b[0m \u001b[0;32min\u001b[0m \u001b[0mrange\u001b[0m\u001b[0;34m(\u001b[0m\u001b[0;36m1\u001b[0m\u001b[0;34m,\u001b[0m\u001b[0mN_ports\u001b[0m\u001b[0;34m)\u001b[0m\u001b[0;34m:\u001b[0m\u001b[0;34m\u001b[0m\u001b[0;34m\u001b[0m\u001b[0m\n\u001b[1;32m     15\u001b[0m     \u001b[0mlabel\u001b[0m \u001b[0;34m=\u001b[0m \u001b[0;34mr'$%s$'\u001b[0m \u001b[0;34m%\u001b[0m \u001b[0;34m(\u001b[0m\u001b[0mmodel\u001b[0m\u001b[0;34m[\u001b[0m\u001b[0;34m\"u_label\"\u001b[0m\u001b[0;34m]\u001b[0m\u001b[0;34m[\u001b[0m\u001b[0mi\u001b[0m\u001b[0;34m]\u001b[0m\u001b[0;34m)\u001b[0m\u001b[0;34m\u001b[0m\u001b[0;34m\u001b[0m\u001b[0m\n\u001b[0;32m---> 16\u001b[0;31m     \u001b[0max\u001b[0m\u001b[0;34m.\u001b[0m\u001b[0mplot\u001b[0m\u001b[0;34m(\u001b[0m\u001b[0mt\u001b[0m\u001b[0;34m[\u001b[0m\u001b[0mindt\u001b[0m\u001b[0;34m]\u001b[0m\u001b[0;34m,\u001b[0m \u001b[0mdata\u001b[0m\u001b[0;34m[\u001b[0m\u001b[0;34m\"u\"\u001b[0m\u001b[0;34m]\u001b[0m\u001b[0;34m[\u001b[0m\u001b[0mindt\u001b[0m\u001b[0;34m,\u001b[0m\u001b[0mi\u001b[0m\u001b[0;34m]\u001b[0m\u001b[0;34m,\u001b[0m \u001b[0mlabel\u001b[0m\u001b[0;34m=\u001b[0m\u001b[0mlabel\u001b[0m\u001b[0;34m)\u001b[0m\u001b[0;34m\u001b[0m\u001b[0;34m\u001b[0m\u001b[0m\n\u001b[0m\u001b[1;32m     17\u001b[0m \u001b[0max\u001b[0m\u001b[0;34m.\u001b[0m\u001b[0mset_title\u001b[0m\u001b[0;34m(\u001b[0m\u001b[0;34m'Entrée: vitesses des parois'\u001b[0m\u001b[0;34m)\u001b[0m\u001b[0;34m\u001b[0m\u001b[0;34m\u001b[0m\u001b[0m\n\u001b[1;32m     18\u001b[0m \u001b[0;34m\u001b[0m\u001b[0m\n",
      "\u001b[0;32mh5py/_objects.pyx\u001b[0m in \u001b[0;36mh5py._objects.with_phil.wrapper\u001b[0;34m()\u001b[0m\n",
      "\u001b[0;32mh5py/_objects.pyx\u001b[0m in \u001b[0;36mh5py._objects.with_phil.wrapper\u001b[0;34m()\u001b[0m\n",
      "\u001b[0;32m~/.virtualenvs/pyphs/lib/python3.8/site-packages/h5py/_hl/dataset.py\u001b[0m in \u001b[0;36m__getitem__\u001b[0;34m(self, args)\u001b[0m\n\u001b[1;32m    551\u001b[0m \u001b[0;34m\u001b[0m\u001b[0m\n\u001b[1;32m    552\u001b[0m         \u001b[0;31m# Perform the dataspace selection.\u001b[0m\u001b[0;34m\u001b[0m\u001b[0;34m\u001b[0m\u001b[0;34m\u001b[0m\u001b[0m\n\u001b[0;32m--> 553\u001b[0;31m         \u001b[0mselection\u001b[0m \u001b[0;34m=\u001b[0m \u001b[0msel\u001b[0m\u001b[0;34m.\u001b[0m\u001b[0mselect\u001b[0m\u001b[0;34m(\u001b[0m\u001b[0mself\u001b[0m\u001b[0;34m.\u001b[0m\u001b[0mshape\u001b[0m\u001b[0;34m,\u001b[0m \u001b[0margs\u001b[0m\u001b[0;34m,\u001b[0m \u001b[0mdsid\u001b[0m\u001b[0;34m=\u001b[0m\u001b[0mself\u001b[0m\u001b[0;34m.\u001b[0m\u001b[0mid\u001b[0m\u001b[0;34m)\u001b[0m\u001b[0;34m\u001b[0m\u001b[0;34m\u001b[0m\u001b[0m\n\u001b[0m\u001b[1;32m    554\u001b[0m \u001b[0;34m\u001b[0m\u001b[0m\n\u001b[1;32m    555\u001b[0m         \u001b[0;32mif\u001b[0m \u001b[0mselection\u001b[0m\u001b[0;34m.\u001b[0m\u001b[0mnselect\u001b[0m \u001b[0;34m==\u001b[0m \u001b[0;36m0\u001b[0m\u001b[0;34m:\u001b[0m\u001b[0;34m\u001b[0m\u001b[0;34m\u001b[0m\u001b[0m\n",
      "\u001b[0;32m~/.virtualenvs/pyphs/lib/python3.8/site-packages/h5py/_hl/selections.py\u001b[0m in \u001b[0;36mselect\u001b[0;34m(shape, args, dsid)\u001b[0m\n\u001b[1;32m     88\u001b[0m             \u001b[0;32mexcept\u001b[0m \u001b[0mException\u001b[0m\u001b[0;34m:\u001b[0m\u001b[0;34m\u001b[0m\u001b[0;34m\u001b[0m\u001b[0m\n\u001b[1;32m     89\u001b[0m                 \u001b[0msel\u001b[0m \u001b[0;34m=\u001b[0m \u001b[0mFancySelection\u001b[0m\u001b[0;34m(\u001b[0m\u001b[0mshape\u001b[0m\u001b[0;34m)\u001b[0m\u001b[0;34m\u001b[0m\u001b[0;34m\u001b[0m\u001b[0m\n\u001b[0;32m---> 90\u001b[0;31m                 \u001b[0msel\u001b[0m\u001b[0;34m[\u001b[0m\u001b[0margs\u001b[0m\u001b[0;34m]\u001b[0m\u001b[0;34m\u001b[0m\u001b[0;34m\u001b[0m\u001b[0m\n\u001b[0m\u001b[1;32m     91\u001b[0m                 \u001b[0;32mreturn\u001b[0m \u001b[0msel\u001b[0m\u001b[0;34m\u001b[0m\u001b[0;34m\u001b[0m\u001b[0m\n\u001b[1;32m     92\u001b[0m \u001b[0;34m\u001b[0m\u001b[0m\n",
      "\u001b[0;32m~/.virtualenvs/pyphs/lib/python3.8/site-packages/h5py/_hl/selections.py\u001b[0m in \u001b[0;36m__getitem__\u001b[0;34m(self, args)\u001b[0m\n\u001b[1;32m    364\u001b[0m                     \u001b[0mlist_arg\u001b[0m \u001b[0;34m=\u001b[0m \u001b[0mlist\u001b[0m\u001b[0;34m(\u001b[0m\u001b[0marg\u001b[0m\u001b[0;34m)\u001b[0m\u001b[0;34m\u001b[0m\u001b[0;34m\u001b[0m\u001b[0m\n\u001b[1;32m    365\u001b[0m                     \u001b[0madjacent\u001b[0m \u001b[0;34m=\u001b[0m \u001b[0mzip\u001b[0m\u001b[0;34m(\u001b[0m\u001b[0mlist_arg\u001b[0m\u001b[0;34m[\u001b[0m\u001b[0;34m:\u001b[0m\u001b[0;34m-\u001b[0m\u001b[0;36m1\u001b[0m\u001b[0;34m]\u001b[0m\u001b[0;34m,\u001b[0m \u001b[0mlist_arg\u001b[0m\u001b[0;34m[\u001b[0m\u001b[0;36m1\u001b[0m\u001b[0;34m:\u001b[0m\u001b[0;34m]\u001b[0m\u001b[0;34m)\u001b[0m\u001b[0;34m\u001b[0m\u001b[0;34m\u001b[0m\u001b[0m\n\u001b[0;32m--> 366\u001b[0;31m                     \u001b[0;32mif\u001b[0m \u001b[0many\u001b[0m\u001b[0;34m(\u001b[0m\u001b[0mfst\u001b[0m \u001b[0;34m>=\u001b[0m \u001b[0msnd\u001b[0m \u001b[0;32mfor\u001b[0m \u001b[0mfst\u001b[0m\u001b[0;34m,\u001b[0m \u001b[0msnd\u001b[0m \u001b[0;32min\u001b[0m \u001b[0madjacent\u001b[0m\u001b[0;34m)\u001b[0m\u001b[0;34m:\u001b[0m\u001b[0;34m\u001b[0m\u001b[0;34m\u001b[0m\u001b[0m\n\u001b[0m\u001b[1;32m    367\u001b[0m                         \u001b[0;32mraise\u001b[0m \u001b[0mTypeError\u001b[0m\u001b[0;34m(\u001b[0m\u001b[0;34m\"Indexing elements must be in increasing order\"\u001b[0m\u001b[0;34m)\u001b[0m\u001b[0;34m\u001b[0m\u001b[0;34m\u001b[0m\u001b[0m\n\u001b[1;32m    368\u001b[0m \u001b[0;34m\u001b[0m\u001b[0m\n",
      "\u001b[0;32m~/.virtualenvs/pyphs/lib/python3.8/site-packages/h5py/_hl/selections.py\u001b[0m in \u001b[0;36m<genexpr>\u001b[0;34m(.0)\u001b[0m\n\u001b[1;32m    364\u001b[0m                     \u001b[0mlist_arg\u001b[0m \u001b[0;34m=\u001b[0m \u001b[0mlist\u001b[0m\u001b[0;34m(\u001b[0m\u001b[0marg\u001b[0m\u001b[0;34m)\u001b[0m\u001b[0;34m\u001b[0m\u001b[0;34m\u001b[0m\u001b[0m\n\u001b[1;32m    365\u001b[0m                     \u001b[0madjacent\u001b[0m \u001b[0;34m=\u001b[0m \u001b[0mzip\u001b[0m\u001b[0;34m(\u001b[0m\u001b[0mlist_arg\u001b[0m\u001b[0;34m[\u001b[0m\u001b[0;34m:\u001b[0m\u001b[0;34m-\u001b[0m\u001b[0;36m1\u001b[0m\u001b[0;34m]\u001b[0m\u001b[0;34m,\u001b[0m \u001b[0mlist_arg\u001b[0m\u001b[0;34m[\u001b[0m\u001b[0;36m1\u001b[0m\u001b[0;34m:\u001b[0m\u001b[0;34m]\u001b[0m\u001b[0;34m)\u001b[0m\u001b[0;34m\u001b[0m\u001b[0;34m\u001b[0m\u001b[0m\n\u001b[0;32m--> 366\u001b[0;31m                     \u001b[0;32mif\u001b[0m \u001b[0many\u001b[0m\u001b[0;34m(\u001b[0m\u001b[0mfst\u001b[0m \u001b[0;34m>=\u001b[0m \u001b[0msnd\u001b[0m \u001b[0;32mfor\u001b[0m \u001b[0mfst\u001b[0m\u001b[0;34m,\u001b[0m \u001b[0msnd\u001b[0m \u001b[0;32min\u001b[0m \u001b[0madjacent\u001b[0m\u001b[0;34m)\u001b[0m\u001b[0;34m:\u001b[0m\u001b[0;34m\u001b[0m\u001b[0;34m\u001b[0m\u001b[0m\n\u001b[0m\u001b[1;32m    367\u001b[0m                         \u001b[0;32mraise\u001b[0m \u001b[0mTypeError\u001b[0m\u001b[0;34m(\u001b[0m\u001b[0;34m\"Indexing elements must be in increasing order\"\u001b[0m\u001b[0;34m)\u001b[0m\u001b[0;34m\u001b[0m\u001b[0;34m\u001b[0m\u001b[0m\n\u001b[1;32m    368\u001b[0m \u001b[0;34m\u001b[0m\u001b[0m\n",
      "\u001b[0;31mKeyboardInterrupt\u001b[0m: "
     ]
    },
    {
     "data": {
      "image/png": "[encoded data removed]",
      "text/plain": [
       "<Figure size 864x864 with 4 Axes>"
      ]
     },
     "metadata": {
      "needs_background": "light"
     },
     "output_type": "display_data"
    }
   ],
   "source": [
    "#%matplotlib nbagg\n",
    "fig, axs = plt.subplots(4, 1, figsize=(12, 12), sharex=True)\n",
    "\n",
    "## Entrées\n",
    "ax = axs[0]\n",
    "label = r'$%s$' % (model[\"u_label\"][0])\n",
    "ax.plot(t[indt], data[\"u\"][indt,0], label=label)\n",
    "ax.set_title('Entrée: entalpie à gauche')\n",
    "for bar in xbar:\n",
    "    ax.axvline(x=bar, **PPTY_XVBAR)\n",
    "\n",
    "# Vitesses\n",
    "ax = axs[1]\n",
    "for i in range(1,N_ports):\n",
    "    label = r'$%s$' % (model[\"u_label\"][i])\n",
    "    ax.plot(t[indt], data[\"u\"][indt,i], label=label)\n",
    "ax.set_title('Entrée: vitesses des parois')\n",
    "\n",
    "for bar in xbar:\n",
    "    ax.axvline(x=bar, **PPTY_XVBAR)\n",
    "\n",
    "## Sorties: Forces\n",
    "\n",
    "ax = axs[2]\n",
    "label = r'$%s$' % (model[\"y_label\"][0])\n",
    "ax.plot(t[indt], data[\"y\"][indt,0], label=label)\n",
    "ax.set_title('Sortie: débit massique à gauche')\n",
    "\n",
    "ax = axs[3]\n",
    "for i in range(1, N_ports):\n",
    "    label = r'$%s$' % (model[\"y_label\"][i])\n",
    "    ax.plot(t[indt], data[\"y\"][indt,i], label=label)\n",
    "ax.set_title('Sorties: forces aux parois')\n",
    "\n",
    "for bar in xbar:\n",
    "    ax.axvline(x=bar, **PPTY_XVBAR)\n",
    "\n",
    "\n",
    "for bar in xbar:\n",
    "    ax.axvline(x=bar, **PPTY_XVBAR)\n",
    "\n",
    "for ax in axs.ravel():\n",
    "    ax.legend(frameon=True, loc=\"upper right\")\n",
    "    ax.grid()\n",
    "\n",
    "plt.tight_layout()\n",
    "for bar in xbar:\n",
    "    ax.axvline(x=bar, **PPTY_XVBAR)\n",
    "    \n",
    "if SAVE_FIG:\n",
    "    title = \"input_output\"\n",
    "    tmp_path = os.path.join(FOLDER_PATH,title)\n",
    "    plt.savefig(tmp_path + '.png', format='png', dpi=300)\n",
    "    plt.savefig(tmp_path + '.pdf', format='pdf')"
   ]
  },
  {
   "cell_type": "markdown",
   "metadata": {},
   "source": [
    "----------\n",
    "## Bilan de puissance et ports"
   ]
  },
  {
   "cell_type": "code",
   "execution_count": 13,
   "metadata": {},
   "outputs": [],
   "source": [
    "# Calcule du bilan de puissance\n",
    "N_diss = len(model[\"w_label\"][:])\n",
    "Pdiss = np.prod([data[\"w\"][:,0],data[\"z\"][:,0]], axis=0)\n",
    "for i in range(1, N_diss):\n",
    "    prod = np.prod([data[\"w\"][:,i],data[\"z\"][:,i]], axis=0)\n",
    "    Pdiss = np.add(Pdiss, prod)\n",
    "\n",
    "Pext = np.prod([data[\"u\"][:,0],data[\"y\"][:,0]], axis=0)\n",
    "for i in range(1, N_ports):\n",
    "    prod = np.prod([data[\"u\"][:,i],data[\"y\"][:,i]], axis=0)\n",
    "    Pext = np.add(Pext, prod)\n",
    "\n",
    "dEdt = np.prod([data[\"dxH\"][:,0],data[\"dtx\"][:,0]], axis=0)\n",
    "for i in range(1,Nx):\n",
    "    prod = np.prod([data[\"dxH\"][:,i],data[\"dtx\"][:,i]], axis=0)\n",
    "    dEdt = np.add(dEdt, prod)"
   ]
  },
  {
   "cell_type": "code",
   "execution_count": null,
   "metadata": {
    "scrolled": false
   },
   "outputs": [],
   "source": [
    "fig = plt.figure(figsize=(12, 4))\n",
    "ax = plt.gca()\n",
    "\n",
    "# ---- Power balance --- #\n",
    "ax.plot(t[indt], (Pdiss + dEdt)[indt])\n",
    "ax.plot(t[indt], (-Pext)[indt], '--')\n",
    "ax.set_title(r'Power balance', fontsize=16)\n",
    "ax.grid()\n",
    "\n",
    "ax.legend([r'$dE/dt + P_D$', '$-P_{ext}$'], loc=\"upper right\")\n",
    "ax.set_ylabel('Power (W)', fontsize=16)\n",
    "ax.set_xlabel('Time (s)', fontsize=16)\n",
    "ax.tick_params(axis='both', which='major', labelsize=14)\n",
    "ax.tick_params(axis='both', which='minor', labelsize=10)\n",
    "plt.ylim([-1e-4, 1e-3])\n",
    "\n",
    "for bar in xbar:\n",
    "    ax.axvline(x=bar, **PPTY_XVBAR)\n",
    "plt.tight_layout()\n",
    "\n",
    "\n",
    "\n",
    "if SAVE_FIG:\n",
    "    title = \"power_balance\"\n",
    "    tmp_path = os.path.join(FOLDER_PATH,title)\n",
    "    plt.savefig(tmp_path + '.png', format='png', dpi=300)\n",
    "    plt.savefig(tmp_path + '.pdf', format='pdf')"
   ]
  },
  {
   "cell_type": "code",
   "execution_count": null,
   "metadata": {},
   "outputs": [],
   "source": [
    "(dEdt+Pext+Pdiss)[indt]"
   ]
  },
  {
   "cell_type": "code",
   "execution_count": 14,
   "metadata": {
    "scrolled": false
   },
   "outputs": [
    {
     "data": {
      "image/png": "[encoded data removed]",
      "text/plain": [
       "<Figure size 864x288 with 1 Axes>"
      ]
     },
     "metadata": {
      "needs_background": "light"
     },
     "output_type": "display_data"
    }
   ],
   "source": [
    "fig = plt.figure(figsize=(12, 4))\n",
    "ax = plt.gca()\n",
    "\n",
    "# ---- Power balance --- #\n",
    "#ax.plot(t[indt], (dEdt+Pext+Pdiss)[indt])\n",
    "ax.semilogy(t[indt], np.abs((dEdt+Pext+Pdiss)[indt]))\n",
    "ax.set_title(r'Local error on power balance', fontsize=16)\n",
    "ax.grid()\n",
    "\n",
    "ax.legend([r'$dE/dt+P_{ext}+P_{diss}$'], loc=\"upper right\")\n",
    "ax.set_ylabel('Power (W)', fontsize=16)\n",
    "ax.set_xlabel('Time (s)', fontsize=16)\n",
    "ax.tick_params(axis='both', which='major', labelsize=14)\n",
    "ax.tick_params(axis='both', which='minor', labelsize=10)\n",
    "\n",
    "#ax.set_ylim([-1e-50,1e-50])\n",
    "\n",
    "for bar in xbar:\n",
    "    ax.axvline(x=bar, **PPTY_XVBAR)\n",
    "plt.tight_layout()\n",
    "\n",
    "if SAVE_FIG:\n",
    "    title = \"error_on_power_balance\"\n",
    "    tmp_path = os.path.join(FOLDER_PATH,title)\n",
    "    #plt.savefig(tmp_path + '.png', format='png', dpi=300)\n",
    "    plt.savefig(tmp_path + '.pdf', format='pdf')"
   ]
  },
  {
   "cell_type": "markdown",
   "metadata": {},
   "source": [
    "## États"
   ]
  },
  {
   "cell_type": "code",
   "execution_count": null,
   "metadata": {
    "scrolled": false
   },
   "outputs": [],
   "source": [
    "if False:\n",
    "    fmt = lambda s: r'$%s_{%s}$' % (s.split('_', 1)[0], s.split('_', 1)[1].replace('_', ''))\n",
    "    fig, axs = plt.subplots(Nx, 1, sharex=True, figsize=(12,16*4))\n",
    "    marker = '-'\n",
    "    tmin = 0.1\n",
    "    tmax = 0.101\n",
    "    for i in range(Nx):\n",
    "        label = fmt(str(model[\"x_label\"][i]))\n",
    "        label = r'$%s$' % label.replace('$', '')\n",
    "        plt.sca(axs[i])\n",
    "        plt.plot(t, data[\"x\"][:,i], marker)\n",
    "        # Cosmétique\n",
    "        plt.legend([label], loc='upper left')\n",
    "        plt.grid()\n",
    "        plt.xlim([tmin, tmax])\n",
    "        if not i:\n",
    "            plt.title('x', fontsize=24)\n",
    "        #barres verticales\n",
    "        for bar in xbar:\n",
    "            plt.axvline(x=bar, **PPTY_XVBAR)\n",
    "\n",
    "    plt.tight_layout()"
   ]
  },
  {
   "cell_type": "markdown",
   "metadata": {},
   "source": [
    "## Gradient"
   ]
  },
  {
   "cell_type": "code",
   "execution_count": null,
   "metadata": {
    "scrolled": false
   },
   "outputs": [],
   "source": [
    "if False:\n",
    "    fmt = lambda s: r'$%s_{%s}$' % (s.split('_', 1)[0], s.split('_', 1)[1].replace('_', ''))\n",
    "    fig, axs = plt.subplots(Nx, 1, sharex=True, figsize=(12,16*4))\n",
    "    marker = '-'\n",
    "    tmin = 0.1\n",
    "    tmax = 0.101\n",
    "    for i in range(Nx):\n",
    "        label = fmt(str(model[\"x_label\"][i]))\n",
    "        label = r'dxH $%s$' % label.replace('$', '')\n",
    "        plt.sca(axs[i])\n",
    "        plt.plot(t, data[\"dxH\"][:,i], marker)\n",
    "        # Cosmétique\n",
    "        plt.legend([label], loc='upper left')\n",
    "        plt.grid()\n",
    "        plt.xlim([tmin, tmax])\n",
    "        if not i:\n",
    "            plt.title('dxH', fontsize=24)\n",
    "        #barres verticales\n",
    "        for bar in xbar:\n",
    "            plt.axvline(x=bar, **PPTY_XVBAR)\n",
    "\n",
    "    plt.tight_layout()"
   ]
  },
  {
   "cell_type": "markdown",
   "metadata": {},
   "source": [
    "--------------\n",
    "## Observateurs"
   ]
  },
  {
   "cell_type": "code",
   "execution_count": null,
   "metadata": {},
   "outputs": [],
   "source": [
    "print(model[\"y_label\"][:])\n",
    "print(model[\"w_label\"][:])"
   ]
  },
  {
   "cell_type": "code",
   "execution_count": null,
   "metadata": {},
   "outputs": [],
   "source": [
    "rho_refs[0]"
   ]
  },
  {
   "cell_type": "code",
   "execution_count": null,
   "metadata": {
    "scrolled": true
   },
   "outputs": [],
   "source": [
    "xlabel = model[\"x_label\"][:]\n",
    "for val,i in enumerate(xlabel):\n",
    "    print(\"{} : {}\".format(val, i))"
   ]
  },
  {
   "cell_type": "markdown",
   "metadata": {},
   "source": [
    "## Représentation fréquentielle"
   ]
  },
  {
   "cell_type": "code",
   "execution_count": null,
   "metadata": {},
   "outputs": [],
   "source": [
    "xlabel = model[\"x_label\"][:]\n",
    "for val,i in enumerate(model[\"w_label\"]):\n",
    "    print(\"{} : {}\".format(val, i))"
   ]
  },
  {
   "cell_type": "code",
   "execution_count": null,
   "metadata": {},
   "outputs": [],
   "source": [
    "xlabel = model[\"x_label\"][:]\n",
    "for val,i in enumerate(model[\"x_label\"]):\n",
    "    print(\"{} : {}\".format(val, i))"
   ]
  },
  {
   "cell_type": "code",
   "execution_count": null,
   "metadata": {},
   "outputs": [],
   "source": []
  },
  {
   "cell_type": "code",
   "execution_count": null,
   "metadata": {
    "scrolled": false
   },
   "outputs": [],
   "source": [
    "ind = 0\n",
    "print(model['x_label'][0:11])\n",
    "leg = list(model['x_label'][0:11])\n",
    "plt.figure(figsize=FIGSIZE)\n",
    "plt.plot(t[indt], data['x'][indt, 0:11])\n",
    "plt.legend(['1', '2','3', '4', '5', '6','7', '8','9','10', '11'], loc='upper right')\n",
    "plt.xlim()\n",
    "plt.grid()"
   ]
  },
  {
   "cell_type": "code",
   "execution_count": null,
   "metadata": {
    "scrolled": true
   },
   "outputs": [],
   "source": [
    "%matplotlib nbagg\n",
    "q_glotte  = data['dxH'][:,0]\n",
    "q_levres  = data['w'][:,-1]\n",
    "\n",
    "len_sig   = len(q_glotte)\n",
    "fs        = config[\"fs\"]\n",
    "\n",
    "freq_max  = fs/2\n",
    "Nfft      = int(next_power_of_2(len_sig))\n",
    "freq_vec  = np.linspace(-fs/2, fs/2, Nfft) \n",
    "indf      = (freq_vec > 0) * (freq_vec < freq_max)\n",
    "win       = scipy.signal.get_window('hann', len_sig)\n",
    "#win       = signal.kaiser(len_sig, beta=14)\n",
    "\n",
    "fft_qout = np.fft.fft(q_levres*win, Nfft)\n",
    "fft_qin  = np.fft.fft(q_glotte*win, Nfft)\n",
    "fft_H_shift = np.fft.fftshift(np.divide(fft_qout, fft_qin))\n",
    "fft_shift_qout = np.fft.fftshift(fft_qout)\n",
    "\n",
    "############\n",
    "## FIGURE ##\n",
    "fig = plt.figure(figsize=(14,5))\n",
    "ax = plt.gca()\n",
    "\n",
    "plt.plot(freq_vec[indf], 10*np.log10(np.abs(fft_H_shift[indf])), linewidth=3)\n",
    "#plt.plot(freq_vec[indf], 10*np.log10(np.abs(np.fft.fftshift((fft_qout[indf])))), linewidth=3)\n",
    "#plt.plot(freq_vec[indf], 10*np.log10(np.abs((fft_shift_qout[indf]))), linewidth=3)\n",
    "plt.xlabel('Frequency (Hz)', fontsize=FONTSIZE)\n",
    "plt.ylabel('$|H(f)|$(dB)', fontsize=FONTSIZE)\n",
    "\n",
    "plt.ylim([-2, 20])\n",
    "plt.xlim([0, 10000])\n",
    "plt.title(r'Représentation freq $H(f)=\\frac{q_{lips}}{q_{g}}$', fontsize=FONTSIZE)\n",
    "plt.grid()\n",
    "\n",
    "freq_bar = [460, 1920, 3260, 4910, 7050, 8860]\n",
    "for bar in freq_bar:\n",
    "    ax.axvline(x=bar, **PPTY_XVBAR)\n",
    "    plt.annotate(r\"{0} Hz\".format(bar), \n",
    "                       (bar+50, 18),\n",
    "                       #bbox=dict(boxstyle='Round', fc='white', ec='k', pad=0.4),\n",
    "                       fontsize=20)\n",
    "\n",
    "ax.tick_params(labelsize=TICK_FONTSIZE)\n",
    "ax.minorticks_on()\n",
    "plt.tight_layout()\n",
    "\n",
    "if SAVE_FIG:\n",
    "    title = \"fonction_transfert_uL_vers_uR\"\n",
    "    tmp_path = os.path.join(FOLDER_PATH,title)\n",
    "    plt.savefig(tmp_path + '.pdf', format='pdf')\n",
    "    print('hehe')"
   ]
  },
  {
   "cell_type": "code",
   "execution_count": null,
   "metadata": {},
   "outputs": [],
   "source": []
  },
  {
   "cell_type": "code",
   "execution_count": null,
   "metadata": {},
   "outputs": [],
   "source": [
    "ind = 0\n",
    "print(model['w_label'][ind])\n",
    "plt.figure(figsize=FIGSIZE)\n",
    "plt.plot(t[indt], -data['z'][indt,ind])\n",
    "plt.plot(t[indt], data['w'][indt,ind]/10.)\n",
    "for bar in xbar:\n",
    "    plt.axvline(x=bar, **PPTY_XVBAR)\n",
    "plt.grid()"
   ]
  },
  {
   "cell_type": "code",
   "execution_count": null,
   "metadata": {},
   "outputs": [],
   "source": [
    "ind = 0\n",
    "print(model['w_label'][ind])\n",
    "plt.figure(figsize=FIGSIZE)\n",
    "plt.plot(t[indt], -data['z'][indt,ind]*data['w'][indt,ind])\n",
    "plt.grid()"
   ]
  },
  {
   "cell_type": "code",
   "execution_count": null,
   "metadata": {},
   "outputs": [],
   "source": []
  },
  {
   "cell_type": "code",
   "execution_count": null,
   "metadata": {},
   "outputs": [],
   "source": []
  },
  {
   "cell_type": "code",
   "execution_count": null,
   "metadata": {},
   "outputs": [],
   "source": []
  },
  {
   "cell_type": "code",
   "execution_count": null,
   "metadata": {},
   "outputs": [],
   "source": []
  },
  {
   "cell_type": "code",
   "execution_count": null,
   "metadata": {},
   "outputs": [],
   "source": []
  },
  {
   "cell_type": "code",
   "execution_count": null,
   "metadata": {},
   "outputs": [],
   "source": []
  },
  {
   "cell_type": "code",
   "execution_count": null,
   "metadata": {},
   "outputs": [],
   "source": []
  },
  {
   "cell_type": "code",
   "execution_count": null,
   "metadata": {},
   "outputs": [],
   "source": []
  }
 ],
 "metadata": {
  "kernelspec": {
   "display_name": "Python 3",
   "language": "python",
   "name": "python3"
  },
  "language_info": {
   "codemirror_mode": {
    "name": "ipython",
    "version": 3
   },
   "file_extension": ".py",
   "mimetype": "text/x-python",
   "name": "python",
   "nbconvert_exporter": "python",
   "pygments_lexer": "ipython3",
   "version": "3.8.2"
  }
 },
 "nbformat": 4,
 "nbformat_minor": 2
}
